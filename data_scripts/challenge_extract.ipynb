{
 "cells": [
  {
   "cell_type": "code",
   "execution_count": 1,
   "metadata": {},
   "outputs": [],
   "source": [
    "import h5py\n",
    "import numpy as np"
   ]
  },
  {
   "cell_type": "code",
   "execution_count": 4,
   "metadata": {},
   "outputs": [],
   "source": [
    "with h5py.File(\"challenge/track_1_train_data.h5\") as hf:\n",
    "    gt_fids = hf[\"ground_truth_fids\"][()]\n",
    "    ppm = hf[\"ppm\"][()]\n",
    "    t = hf[\"t\"][()]\n",
    "\n",
    "with h5py.File(\"simulated/train_data.h5\",\"w\") as hf:\n",
    "    hf.create_dataset(\"ground_truth_fids\",data=gt_fids[:500])\n",
    "    hf.create_dataset(\"ppm\",data=ppm[:500])\n",
    "    hf.create_dataset(\"t\",data=t[:500])\n"
   ]
  },
  {
   "cell_type": "code",
   "execution_count": 5,
   "metadata": {},
   "outputs": [],
   "source": [
    "with h5py.File(\"challenge/track_1_val_data.h5\") as hf:\n",
    "    gt_fids = hf[\"ground_truth_fids\"][()]\n",
    "    ppm = hf[\"ppm\"][()]\n",
    "    t = hf[\"t\"][()]\n",
    "\n",
    "with h5py.File(\"simulated/val_data.h5\",\"w\") as hf:\n",
    "    hf.create_dataset(\"ground_truth_fids\",data=gt_fids[:100])\n",
    "    hf.create_dataset(\"ppm\",data=ppm[:100])\n",
    "    hf.create_dataset(\"t\",data=t[:100])"
   ]
  },
  {
   "cell_type": "code",
   "execution_count": 3,
   "metadata": {},
   "outputs": [
    {
     "name": "stdout",
     "output_type": "stream",
     "text": [
      "ground_truth_fids = (500, 2048, 2)\n",
      "ppm = (500, 2048)\n",
      "t = (500, 2048)\n"
     ]
    }
   ],
   "source": [
    "with h5py.File(\"challenge/track_1_train_data_quick.h5\") as hf:\n",
    "    for key in hf:\n",
    "        print(f\"{key} = {hf[key][()].shape}\")"
   ]
  },
  {
   "cell_type": "code",
   "execution_count": 6,
   "metadata": {},
   "outputs": [
    {
     "name": "stdout",
     "output_type": "stream",
     "text": [
      "ppm = (1000, 2048)\n",
      "t = (1000, 2048)\n",
      "target_spectra = (1000, 2048)\n",
      "transients = (1000, 2048, 2, 40)\n"
     ]
    }
   ],
   "source": [
    "with h5py.File(\"challenge/track_1_test_data.h5\") as hf:\n",
    "    for key in hf:\n",
    "        print(f\"{key} = {hf[key][()].shape}\")"
   ]
  },
  {
   "cell_type": "code",
   "execution_count": null,
   "metadata": {},
   "outputs": [],
   "source": []
  }
 ],
 "metadata": {
  "kernelspec": {
   "display_name": "thesis",
   "language": "python",
   "name": "python3"
  },
  "language_info": {
   "codemirror_mode": {
    "name": "ipython",
    "version": 3
   },
   "file_extension": ".py",
   "mimetype": "text/x-python",
   "name": "python",
   "nbconvert_exporter": "python",
   "pygments_lexer": "ipython3",
   "version": "3.8.16"
  },
  "orig_nbformat": 4
 },
 "nbformat": 4,
 "nbformat_minor": 2
}
