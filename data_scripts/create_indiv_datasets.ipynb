{
 "cells": [
  {
   "cell_type": "code",
   "execution_count": 2,
   "metadata": {},
   "outputs": [],
   "source": [
    "import h5py\n",
    "import sys\n",
    "import matlab.engine\n",
    "import matplotlib.pyplot as plt\n",
    "import numpy as np\n",
    "import torch"
   ]
  },
  {
   "cell_type": "code",
   "execution_count": 4,
   "metadata": {},
   "outputs": [],
   "source": [
    "eng = matlab.engine.start_matlab()\n",
    "sys.path.append(\"C:\\\\Users\\\\rodrigo\\\\Documents\\\\MRS\\\\Gannet\")\n",
    "\n",
    "    "
   ]
  },
  {
   "cell_type": "code",
   "execution_count": null,
   "metadata": {},
   "outputs": [],
   "source": []
  },
  {
   "cell_type": "code",
   "execution_count": null,
   "metadata": {},
   "outputs": [],
   "source": [
    "###adatapting data"
   ]
  },
  {
   "cell_type": "code",
   "execution_count": 9,
   "metadata": {},
   "outputs": [],
   "source": [
    "mrs_struct = eng.load(\"c:/Users/rodrigo/Documents/thesis/data/gannet_full_load/g4_s01.mat\")[\"mrs_struct\"]"
   ]
  },
  {
   "cell_type": "code",
   "execution_count": 10,
   "metadata": {},
   "outputs": [
    {
     "data": {
      "text/plain": [
       "dict_keys(['version', 'ii', 'metabfile', 'p', 'fids', 'spec', 'out'])"
      ]
     },
     "execution_count": 10,
     "metadata": {},
     "output_type": "execute_result"
    }
   ],
   "source": [
    "mrs_struct.keys()"
   ]
  },
  {
   "cell_type": "code",
   "execution_count": 39,
   "metadata": {},
   "outputs": [
    {
     "data": {
      "text/plain": [
       "dict_keys(['vox1', 'freq', 'F0freq', 'F0freq2', 'AllFramesFT', 'AllFramesFTrealign'])"
      ]
     },
     "execution_count": 39,
     "metadata": {},
     "output_type": "execute_result"
    }
   ],
   "source": [
    "mrs_struct[\"spec\"].keys()"
   ]
  },
  {
   "cell_type": "code",
   "execution_count": 40,
   "metadata": {},
   "outputs": [
    {
     "data": {
      "text/plain": [
       "(81920, 320)"
      ]
     },
     "execution_count": 40,
     "metadata": {},
     "output_type": "execute_result"
    }
   ],
   "source": [
    "np.array(mrs_struct[\"spec\"][\"AllFramesFT\"]).shape"
   ]
  },
  {
   "cell_type": "code",
   "execution_count": 24,
   "metadata": {},
   "outputs": [
    {
     "data": {
      "text/plain": [
       "(4096, 1)"
      ]
     },
     "execution_count": 24,
     "metadata": {},
     "output_type": "execute_result"
    }
   ],
   "source": [
    "np.array(mrs_struct[\"fids\"][\"data_water\"]).shape"
   ]
  },
  {
   "cell_type": "code",
   "execution_count": 41,
   "metadata": {},
   "outputs": [
    {
     "name": "stdout",
     "output_type": "stream",
     "text": [
      "{'target': ['GABAGlx'], 'seqorig': 'JHU', 'LB': 3.0, 'water_ECC': 1.0, 'metab_ECC': 0.0, 'water_removal': 1.0, 'alignment': 'RobustSpecReg', 'use_prealign_ref': 0.0, 'vox': ['vox1'], 'fit_resid_water': 0.0, 'weighted_averaging': 1.0, 'HERMES': 0.0, 'HERCULES': 0.0, 'PRIAM': 0.0, 'phantom': 0.0, 'join': 0.0, 'mat': 0.0, 'csv': 0.0, 'append': 0.0, 'hide': 0.0, 'vendor': 'GE', 'reference': 'H2O', 'numScans': 1.0, 'numFilesPerScan': 1.0, 'GE': {'rdbm_rev_num': 24.0, 'nechoes': 2.0, 'NEX': 8.0, 'editRF': {'waveform': 12.0, 'freq_Hz': matlab.double([[-355.0,355.0]]), 'freq_ppm': matlab.double([[1.9003599721531743,7.459640027846826]]), 'dur': 15.0}, 'noadd': 1.0}, 'LarmorFreq': 127.714379, 'sw': 5000.0, 'npoints': 4096.0, 'nrows': 320.0, 'TE': 68.0, 'TR': 2000.0, 'voxdim': matlab.double([[30.0,30.0,30.0]]), 'Navg': 320.0, 'Nwateravg': 16.0, 'nrows_water': 8.0, 'ZeroFillTo': 81920.0, 'zf': 20.0, 'dt': 0.0002, 'SpecRes': 1.220703125, 'SpecResNominal': 0.06103515625, 'Tacq': 0.8192, 'weighted_averaging_method': 'MSE'}\n"
     ]
    }
   ],
   "source": [
    "print(mrs_struct[\"p\"])"
   ]
  },
  {
   "cell_type": "code",
   "execution_count": 17,
   "metadata": {},
   "outputs": [
    {
     "ename": "TypeError",
     "evalue": "can't convert complex to float",
     "output_type": "error",
     "traceback": [
      "\u001b[1;31m---------------------------------------------------------------------------\u001b[0m",
      "\u001b[1;31mTypeError\u001b[0m                                 Traceback (most recent call last)",
      "\u001b[1;32mc:\\Users\\rodrigo\\Documents\\thesis\\data\\create_indiv_datasets.ipynb Cell 8\u001b[0m in \u001b[0;36m<cell line: 1>\u001b[1;34m()\u001b[0m\n\u001b[1;32m----> <a href='vscode-notebook-cell:/c%3A/Users/rodrigo/Documents/thesis/data/create_indiv_datasets.ipynb#X10sZmlsZQ%3D%3D?line=0'>1</a>\u001b[0m \u001b[39mprint\u001b[39m(torch\u001b[39m.\u001b[39;49mTensor(mrs_struct[\u001b[39m\"\u001b[39;49m\u001b[39mfids\u001b[39;49m\u001b[39m\"\u001b[39;49m][\u001b[39m\"\u001b[39;49m\u001b[39mdata\u001b[39;49m\u001b[39m\"\u001b[39;49m])\u001b[39m.\u001b[39mshape)\n",
      "\u001b[1;31mTypeError\u001b[0m: can't convert complex to float"
     ]
    }
   ],
   "source": [
    "print(torch.Tensor(mrs_struct[\"fids\"][\"data\"]).shape)"
   ]
  }
 ],
 "metadata": {
  "kernelspec": {
   "display_name": "thesis",
   "language": "python",
   "name": "python3"
  },
  "language_info": {
   "codemirror_mode": {
    "name": "ipython",
    "version": 3
   },
   "file_extension": ".py",
   "mimetype": "text/x-python",
   "name": "python",
   "nbconvert_exporter": "python",
   "pygments_lexer": "ipython3",
   "version": "3.8.16"
  },
  "orig_nbformat": 4
 },
 "nbformat": 4,
 "nbformat_minor": 2
}
