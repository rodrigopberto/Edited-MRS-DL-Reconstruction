{
 "cells": [
  {
   "cell_type": "code",
   "execution_count": 18,
   "metadata": {},
   "outputs": [],
   "source": [
    "import h5py\n",
    "import matlab.engine\n",
    "import pandas as pd\n",
    "import sys\n",
    "import os"
   ]
  },
  {
   "cell_type": "code",
   "execution_count": 3,
   "metadata": {},
   "outputs": [],
   "source": [
    "eng = matlab.engine.start_matlab()\n",
    "sys.path.append(\"C:\\\\Users\\\\rodrigo\\\\Documents\\\\MRS\\\\Gannet\")"
   ]
  },
  {
   "cell_type": "code",
   "execution_count": 8,
   "metadata": {},
   "outputs": [],
   "source": [
    "mrs_fit = eng.load(\"data/gannet_full_fit/g4_s01.mat\")[\"mrs_fit\"][\"vox1\"]"
   ]
  },
  {
   "cell_type": "code",
   "execution_count": 16,
   "metadata": {},
   "outputs": [],
   "source": [
    "def extract_fit_info(mrs_fit):\n",
    "    gaba = mrs_fit[\"GABA\"]\n",
    "\n",
    "    gaba_linewidth = float(gaba[\"FWHM\"])\n",
    "    gaba_snr = float(gaba[\"SNR\"])\n",
    "    gaba_fit_error = float(gaba[\"FitError\"])\n",
    "    gaba_conc_water = float(gaba[\"ConcIU\"])\n",
    "    gaba_conc_cr = float(gaba[\"ConcCr\"])\n",
    "\n",
    "    glx = mrs_fit[\"Glx\"]\n",
    "\n",
    "    glx_linewidth = float(glx[\"FWHM\"])\n",
    "    glx_snr = float(glx[\"SNR\"])\n",
    "    glx_fit_error = float(glx[\"FitError\"])\n",
    "    glx_conc_water = float(glx[\"ConcIU\"])\n",
    "    glx_conc_cr = float(glx[\"ConcCr\"])\n",
    "\n",
    "    return {\n",
    "        \"gaba_snr\":gaba_snr,\n",
    "        \"gaba_linewidth\":gaba_linewidth,\n",
    "        \"gaba_fit_error\":gaba_fit_error,\n",
    "        \"gaba_conc_water\":gaba_conc_water,\n",
    "        \"gaba_conc_cr\":gaba_conc_cr,\n",
    "        \"glx_snr\":glx_snr,\n",
    "        \"glx_linewidth\":glx_linewidth,\n",
    "        \"glx_fit_error\":glx_fit_error,\n",
    "        \"glx_conc_water\":glx_conc_water,\n",
    "        \"glx_conc_cr\":glx_conc_cr,\n",
    "    }\n"
   ]
  },
  {
   "cell_type": "code",
   "execution_count": 19,
   "metadata": {},
   "outputs": [],
   "source": [
    "## make acc pre_results\n",
    "input_folder = \"data/gannet_acc_fit\"\n",
    "filenames = os.listdir(input_folder)\n",
    "pre_df = []\n",
    "for filename in filenames:\n",
    "    row_dict = {\"filename\":filename.split(\".\")[0]}\n",
    "    mrs_fit = eng.load(f\"{input_folder}/{filename}\")[\"mrs_fit\"][\"vox1\"]\n",
    "    row_dict.update(extract_fit_info(mrs_fit))\n",
    "    pre_df.append(row_dict)\n",
    "    del mrs_fit\n",
    "\n",
    "acc_df = pd.DataFrame(pre_df)\n",
    "\n",
    "acc_df.to_csv(\"pre_results/acc_ref_df.csv\",index=False)    "
   ]
  },
  {
   "cell_type": "code",
   "execution_count": null,
   "metadata": {},
   "outputs": [],
   "source": [
    "## make full pre_results\n",
    "input_folder = \"data/gannet_full_fit\"\n",
    "filenames = os.listdir(input_folder)\n",
    "pre_df = []\n",
    "for filename in filenames:\n",
    "    row_dict = {\"filename\":filename.split(\".\")[0]}\n",
    "    mrs_fit = eng.load(f\"{input_folder}/{filename}\")[\"mrs_fit\"][\"vox1\"]\n",
    "    row_dict.update(extract_fit_info(mrs_fit))\n",
    "    pre_df.append(row_dict)\n",
    "    del mrs_fit\n",
    "\n",
    "acc_df = pd.DataFrame(pre_df)\n",
    "\n",
    "acc_df.to_csv(\"pre_results/full_ref_df.csv\",index=False)    "
   ]
  },
  {
   "cell_type": "code",
   "execution_count": 17,
   "metadata": {},
   "outputs": [
    {
     "data": {
      "text/plain": [
       "{'gaba_snr': 18.23506553673495,\n",
       " 'gaba_linewidth': 17.88323136876204,\n",
       " 'gaba_fit_error': 6.650324063830941,\n",
       " 'gaba_conc_water': 1.649213733571171,\n",
       " 'gaba_conc_cr': 0.11533845255887124,\n",
       " 'glx_snr': 27.57019902123619,\n",
       " 'glx_linewidth': 14.09848472740011,\n",
       " 'glx_fit_error': 4.398557117816746,\n",
       " 'glx_conc_water': 6.709598218005278,\n",
       " 'glx_conc_cr': 0.12865824937200437}"
      ]
     },
     "execution_count": 17,
     "metadata": {},
     "output_type": "execute_result"
    }
   ],
   "source": [
    "extract_fit_info(mrs_fit)"
   ]
  }
 ],
 "metadata": {
  "kernelspec": {
   "display_name": "thesis",
   "language": "python",
   "name": "python3"
  },
  "language_info": {
   "codemirror_mode": {
    "name": "ipython",
    "version": 3
   },
   "file_extension": ".py",
   "mimetype": "text/x-python",
   "name": "python",
   "nbconvert_exporter": "python",
   "pygments_lexer": "ipython3",
   "version": "3.8.16"
  },
  "orig_nbformat": 4
 },
 "nbformat": 4,
 "nbformat_minor": 2
}
