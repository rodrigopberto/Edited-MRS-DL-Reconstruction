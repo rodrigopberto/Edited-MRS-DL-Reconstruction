{
 "cells": [
  {
   "cell_type": "code",
   "execution_count": 1,
   "metadata": {},
   "outputs": [],
   "source": [
    "from torchinfo import summary\n",
    "import torch"
   ]
  },
  {
   "cell_type": "code",
   "execution_count": 2,
   "metadata": {},
   "outputs": [
    {
     "name": "stdout",
     "output_type": "stream",
     "text": [
      "torch.Size([1, 2048])\n"
     ]
    }
   ],
   "source": [
    "from mrs_acc.models import PreDownUnet2D\n",
    "\n",
    "x = torch.rand(size=(1,2,2048,40))\n",
    "\n",
    "m = PreDownUnet2D(initial_filters=32,kernel_size=5)\n",
    "\n",
    "y = m(x,None)\n",
    "\n",
    "print(y.shape)"
   ]
  },
  {
   "cell_type": "code",
   "execution_count": 3,
   "metadata": {},
   "outputs": [
    {
     "data": {
      "text/plain": [
       "===============================================================================================\n",
       "Layer (type:depth-idx)                        Output Shape              Param #\n",
       "===============================================================================================\n",
       "PreDownUnet2D                                 [1, 2048]                 --\n",
       "├─CNN1DMultiChain: 1-1                        [1, 128, 2048, 40]        --\n",
       "│    └─ModuleList: 2-1                        --                        --\n",
       "│    │    └─CNN1DSingleChain: 3-1             [1, 32, 2048, 40]         6,432\n",
       "│    │    └─CNN1DSingleChain: 3-2             [1, 32, 2048, 40]         10,656\n",
       "│    │    └─CNN1DSingleChain: 3-3             [1, 32, 2048, 40]         14,880\n",
       "│    │    └─CNN1DSingleChain: 3-4             [1, 32, 2048, 40]         19,104\n",
       "├─_DownUnet2DEncoder: 1-2                     [1, 256, 128, 24]         --\n",
       "│    └─ModuleList: 2-2                        --                        --\n",
       "│    │    └─_DownUnet2DBlock: 3-5             [1, 32, 2048, 36]         76,992\n",
       "│    │    └─_DownUnet2DBlock: 3-6             [1, 64, 1024, 32]         92,544\n",
       "│    │    └─_DownUnet2DBlock: 3-7             [1, 128, 512, 28]         369,408\n",
       "│    │    └─_DownUnet2DBlock: 3-8             [1, 256, 256, 24]         1,476,096\n",
       "├─_DownUnet2DBlock: 1-3                       [1, 512, 128, 20]         --\n",
       "│    └─Conv2d: 2-3                            [1, 512, 128, 22]         1,966,592\n",
       "│    └─BatchNorm2d: 2-4                       [1, 512, 128, 22]         1,024\n",
       "│    └─Conv2d: 2-5                            [1, 512, 128, 20]         3,932,672\n",
       "│    └─BatchNorm2d: 2-6                       [1, 512, 128, 20]         1,024\n",
       "├─_DownUnet2DDecoder: 1-4                     [1, 32, 2048, 4]          --\n",
       "│    └─ModuleList: 2-13                       --                        (recursive)\n",
       "│    │    └─_DownUnet2DBridgeBlock: 3-9       [1, 256, 256, 20]         1,639,168\n",
       "│    └─ModuleList: 2-14                       --                        (recursive)\n",
       "│    │    └─_DownUnet2DBlock: 3-10            [1, 256, 256, 16]         3,933,696\n",
       "│    └─ModuleList: 2-13                       --                        (recursive)\n",
       "│    │    └─_DownUnet2DBridgeBlock: 3-11      [1, 128, 512, 16]         1,065,344\n",
       "│    └─ModuleList: 2-14                       --                        (recursive)\n",
       "│    │    └─_DownUnet2DBlock: 3-12            [1, 128, 512, 12]         983,808\n",
       "│    └─ModuleList: 2-13                       --                        (recursive)\n",
       "│    │    └─_DownUnet2DBridgeBlock: 3-13      [1, 64, 1024, 12]         430,272\n",
       "│    └─ModuleList: 2-14                       --                        (recursive)\n",
       "│    │    └─_DownUnet2DBlock: 3-14            [1, 64, 1024, 8]          246,144\n",
       "│    └─ModuleList: 2-13                       --                        (recursive)\n",
       "│    │    └─_DownUnet2DBridgeBlock: 3-15      [1, 32, 2048, 8]          148,576\n",
       "│    └─ModuleList: 2-14                       --                        (recursive)\n",
       "│    │    └─_DownUnet2DBlock: 3-16            [1, 32, 2048, 4]          61,632\n",
       "├─Conv2d: 1-5                                 [1, 32, 2048, 1]          20,512\n",
       "├─Conv2d: 1-6                                 [1, 1, 2048, 1]           801\n",
       "===============================================================================================\n",
       "Total params: 16,497,377\n",
       "Trainable params: 16,497,377\n",
       "Non-trainable params: 0\n",
       "Total mult-adds (G): 95.90\n",
       "===============================================================================================\n",
       "Input size (MB): 0.66\n",
       "Forward/backward pass size (MB): 707.28\n",
       "Params size (MB): 65.99\n",
       "Estimated Total Size (MB): 773.93\n",
       "==============================================================================================="
      ]
     },
     "execution_count": 3,
     "metadata": {},
     "output_type": "execute_result"
    }
   ],
   "source": [
    "summary(m.cuda(),x.shape)"
   ]
  },
  {
   "cell_type": "code",
   "execution_count": 6,
   "metadata": {},
   "outputs": [
    {
     "name": "stdout",
     "output_type": "stream",
     "text": [
      "torch.Size([1, 2048])\n"
     ]
    }
   ],
   "source": [
    "from mrs_acc.models import Unet1D\n",
    "\n",
    "x = torch.rand(size=(1,2,2048,40))\n",
    "\n",
    "m = Unet1D(initial_filters=64,kernel_size=5)\n",
    "\n",
    "y = m(x,None)\n",
    "\n",
    "print(y.shape)"
   ]
  },
  {
   "cell_type": "code",
   "execution_count": 7,
   "metadata": {},
   "outputs": [
    {
     "data": {
      "text/plain": [
       "==========================================================================================\n",
       "Layer (type:depth-idx)                   Output Shape              Param #\n",
       "==========================================================================================\n",
       "Unet1D                                   [1, 2048]                 --\n",
       "├─_Unet1DEncoder: 1-1                    [1, 512, 128]             --\n",
       "│    └─ModuleList: 2-1                   --                        --\n",
       "│    │    └─_Unet1DBlock: 3-1            [1, 64, 2048]             46,464\n",
       "│    │    └─_Unet1DBlock: 3-2            [1, 128, 1024]            123,648\n",
       "│    │    └─_Unet1DBlock: 3-3            [1, 256, 512]             493,056\n",
       "│    │    └─_Unet1DBlock: 3-4            [1, 512, 256]             1,969,152\n",
       "├─_Unet1DBlock: 1-2                      [1, 1024, 128]            --\n",
       "│    └─Conv1d: 2-2                       [1, 1024, 128]            2,622,464\n",
       "│    └─BatchNorm1d: 2-3                  [1, 1024, 128]            2,048\n",
       "│    └─Conv1d: 2-4                       [1, 1024, 128]            5,243,904\n",
       "│    └─BatchNorm1d: 2-5                  [1, 1024, 128]            2,048\n",
       "├─_Unet1DDecoder: 1-3                    [1, 64, 2048]             --\n",
       "│    └─ModuleList: 2-6                   --                        --\n",
       "│    │    └─_Unet1DBlock: 3-5            [1, 512, 256]             5,245,952\n",
       "│    │    └─_Unet1DBlock: 3-6            [1, 256, 512]             1,312,256\n",
       "│    │    └─_Unet1DBlock: 3-7            [1, 128, 1024]            328,448\n",
       "│    │    └─_Unet1DBlock: 3-8            [1, 64, 2048]             82,304\n",
       "├─Conv1d: 1-4                            [1, 1, 2048]              321\n",
       "==========================================================================================\n",
       "Total params: 17,472,065\n",
       "Trainable params: 17,472,065\n",
       "Non-trainable params: 0\n",
       "Total mult-adds (G): 4.50\n",
       "==========================================================================================\n",
       "Input size (MB): 0.66\n",
       "Forward/backward pass size (MB): 37.77\n",
       "Params size (MB): 69.89\n",
       "Estimated Total Size (MB): 108.31\n",
       "=========================================================================================="
      ]
     },
     "execution_count": 7,
     "metadata": {},
     "output_type": "execute_result"
    }
   ],
   "source": [
    "summary(m.cuda(),x.shape)"
   ]
  }
 ],
 "metadata": {
  "kernelspec": {
   "display_name": "thesis",
   "language": "python",
   "name": "python3"
  },
  "language_info": {
   "codemirror_mode": {
    "name": "ipython",
    "version": 3
   },
   "file_extension": ".py",
   "mimetype": "text/x-python",
   "name": "python",
   "nbconvert_exporter": "python",
   "pygments_lexer": "ipython3",
   "version": "3.8.16"
  },
  "orig_nbformat": 4
 },
 "nbformat": 4,
 "nbformat_minor": 2
}
