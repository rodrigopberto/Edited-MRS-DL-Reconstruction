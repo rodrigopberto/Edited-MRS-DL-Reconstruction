{
 "cells": [
  {
   "cell_type": "code",
   "execution_count": 1,
   "metadata": {},
   "outputs": [],
   "source": [
    "import pandas as pd\n",
    "import numpy as np\n",
    "import matlab.engine\n",
    "import os\n",
    "import sys"
   ]
  },
  {
   "cell_type": "code",
   "execution_count": 2,
   "metadata": {},
   "outputs": [],
   "source": [
    "eng = matlab.engine.start_matlab()\n",
    "s = eng.genpath(\"C:\\\\Users\\\\rodrigo\\\\Documents\\\\MRS\\\\Gannet\")\n",
    "eng.addpath(s, nargout=0)"
   ]
  },
  {
   "cell_type": "code",
   "execution_count": 3,
   "metadata": {},
   "outputs": [],
   "source": [
    "files_base_folder = \"C:/Users/rodrigo/Documents/MRS/BIG_GABA\"\n",
    "file_prefixes = [\"g4\",\"g5\",\"g7\",\"g8\",\n",
    "                 \"p4\",\"p6\",\"p8\",\"p10\",\n",
    "                 \"s1\",\"s3\",\"s5\",\"s8\"]\n",
    "output_folder = \"C:/Users/rodrigo/Documents/gaba_edited_mrs_acceleration/data/gannet_acc_fit_size_increases\"\n",
    "\n",
    "file_infos = []\n",
    "for file_prefix in [\"g4\",\"g5\",\"g7\",\"g8\"]:\n",
    "    for i in range(1,13):\n",
    "        file_infos.append({\"file_key\":f\"{file_prefix}_s{i:02d}\",\"filename\":f\"{files_base_folder}/{file_prefix.upper()}_MP/S{i:02d}/S{i:02d}_GABA_68.7\"})\n",
    "\n",
    "for file_prefix in [\"p4\",\"p6\",\"p8\",\"p10\"]:\n",
    "    for i in range(1,13):\n",
    "        file_infos.append({\"file_key\":f\"{file_prefix}_s{i:02d}\",\"filename\":f\"{files_base_folder}/{file_prefix.upper()}_MP/S{i:02d}/S{i:02d}_GABA_68_act.SDAT\",\n",
    "                                                                \"aux_filename\":f\"{files_base_folder}/{file_prefix.upper()}_MP/S{i:02d}/S{i:02d}_GABA_68_ref.SDAT\"})\n",
    "\n",
    "for file_prefix in [\"s1\",\"s3\",\"s5\",\"s8\"]:\n",
    "    for i in range(1,13):\n",
    "        file_infos.append({\"file_key\":f\"{file_prefix}_s{i:02d}\",\"filename\":f\"{files_base_folder}/{file_prefix.upper()}_MP/S{i:02d}/S{i:02d}_GABA_68.dat\",\n",
    "                                                                \"aux_filename\":f\"{files_base_folder}/{file_prefix.upper()}_MP/S{i:02d}/S{i:02d}_GABA_68_H2O.dat\"})\n",
    "        \n",
    "\n",
    "ranges = [(1,10),(1,20),(1,30),(1,40),(1,50),(1,60),(1,70),(1,80),(1,90),(1,100),(1,110),(1,120),(1,130),(1,140),\n",
    "          (1,150),(1,160),(1,170),(1,180),(1,190),(1,200),(1,210),(1,220),(1,230),(1,240)]"
   ]
  },
  {
   "cell_type": "code",
   "execution_count": null,
   "metadata": {},
   "outputs": [],
   "source": [
    "### stopped on 14"
   ]
  },
  {
   "cell_type": "code",
   "execution_count": 4,
   "metadata": {},
   "outputs": [
    {
     "name": "stdout",
     "output_type": "stream",
     "text": [
      "113 - C:/Users/rodrigo/Documents/MRS/BIG_GABA/S3_MP/S06/S06_GABA_68.dat\n",
      "114 - C:/Users/rodrigo/Documents/MRS/BIG_GABA/S3_MP/S07/S07_GABA_68.dat\n",
      "115 - C:/Users/rodrigo/Documents/MRS/BIG_GABA/S3_MP/S08/S08_GABA_68.dat\n",
      "116 - C:/Users/rodrigo/Documents/MRS/BIG_GABA/S3_MP/S09/S09_GABA_68.dat\n",
      "117 - C:/Users/rodrigo/Documents/MRS/BIG_GABA/S3_MP/S10/S10_GABA_68.dat\n",
      "118 - C:/Users/rodrigo/Documents/MRS/BIG_GABA/S3_MP/S11/S11_GABA_68.dat\n",
      "119 - C:/Users/rodrigo/Documents/MRS/BIG_GABA/S3_MP/S12/S12_GABA_68.dat\n",
      "120 - C:/Users/rodrigo/Documents/MRS/BIG_GABA/S5_MP/S01/S01_GABA_68.dat\n",
      "121 - C:/Users/rodrigo/Documents/MRS/BIG_GABA/S5_MP/S02/S02_GABA_68.dat\n",
      "122 - C:/Users/rodrigo/Documents/MRS/BIG_GABA/S5_MP/S03/S03_GABA_68.dat\n",
      "123 - C:/Users/rodrigo/Documents/MRS/BIG_GABA/S5_MP/S04/S04_GABA_68.dat\n",
      "124 - C:/Users/rodrigo/Documents/MRS/BIG_GABA/S5_MP/S05/S05_GABA_68.dat\n",
      "125 - C:/Users/rodrigo/Documents/MRS/BIG_GABA/S5_MP/S06/S06_GABA_68.dat\n",
      "126 - C:/Users/rodrigo/Documents/MRS/BIG_GABA/S5_MP/S07/S07_GABA_68.dat\n",
      "127 - C:/Users/rodrigo/Documents/MRS/BIG_GABA/S5_MP/S08/S08_GABA_68.dat\n",
      "128 - C:/Users/rodrigo/Documents/MRS/BIG_GABA/S5_MP/S09/S09_GABA_68.dat\n",
      "129 - C:/Users/rodrigo/Documents/MRS/BIG_GABA/S5_MP/S10/S10_GABA_68.dat\n",
      "130 - C:/Users/rodrigo/Documents/MRS/BIG_GABA/S5_MP/S11/S11_GABA_68.dat\n",
      "131 - C:/Users/rodrigo/Documents/MRS/BIG_GABA/S5_MP/S12/S12_GABA_68.dat\n",
      "132 - C:/Users/rodrigo/Documents/MRS/BIG_GABA/S8_MP/S01/S01_GABA_68.dat\n",
      "133 - C:/Users/rodrigo/Documents/MRS/BIG_GABA/S8_MP/S02/S02_GABA_68.dat\n",
      "134 - C:/Users/rodrigo/Documents/MRS/BIG_GABA/S8_MP/S03/S03_GABA_68.dat\n",
      "135 - C:/Users/rodrigo/Documents/MRS/BIG_GABA/S8_MP/S04/S04_GABA_68.dat\n",
      "136 - C:/Users/rodrigo/Documents/MRS/BIG_GABA/S8_MP/S05/S05_GABA_68.dat\n",
      "137 - C:/Users/rodrigo/Documents/MRS/BIG_GABA/S8_MP/S06/S06_GABA_68.dat\n",
      "138 - C:/Users/rodrigo/Documents/MRS/BIG_GABA/S8_MP/S07/S07_GABA_68.dat\n",
      "139 - C:/Users/rodrigo/Documents/MRS/BIG_GABA/S8_MP/S08/S08_GABA_68.dat\n",
      "140 - C:/Users/rodrigo/Documents/MRS/BIG_GABA/S8_MP/S09/S09_GABA_68.dat\n",
      "141 - C:/Users/rodrigo/Documents/MRS/BIG_GABA/S8_MP/S10/S10_GABA_68.dat\n",
      "142 - C:/Users/rodrigo/Documents/MRS/BIG_GABA/S8_MP/S11/S11_GABA_68.dat\n",
      "143 - C:/Users/rodrigo/Documents/MRS/BIG_GABA/S8_MP/S12/S12_GABA_68.dat\n"
     ]
    }
   ],
   "source": [
    "start_i=113\n",
    "\n",
    "for i,file_info in enumerate(file_infos):\n",
    "    if i<start_i:\n",
    "        continue\n",
    "    print(f'{i} - {file_info[\"filename\"]}')\n",
    "    for i_range in ranges:\n",
    "        if \"aux_filename\" in file_info:\n",
    "            mrs_struct = eng.GannetLoad4xAccNoGraphRange(i_range[0],i_range[1],[file_info['filename']],[file_info['aux_filename']])\n",
    "        else:\n",
    "            mrs_struct = eng.GannetLoad4xAccNoGraphRange(i_range[0],i_range[1],[file_info['filename']])\n",
    "        #print(mrs_struct.keys())\n",
    "        #print(mrs_struct['metabfile'])\n",
    "        mrs_fit = eng.GannetFitNoGraph(mrs_struct)[\"out\"]\n",
    "        del mrs_struct\n",
    "        eng.workspace['mrs_fit']=mrs_fit\n",
    "        eng.save(f'{output_folder}/{file_info[\"file_key\"]}_range_{i_range[0]}_{i_range[1]}.mat',\"mrs_fit\",nargout=0)\n"
   ]
  }
 ],
 "metadata": {
  "kernelspec": {
   "display_name": "thesis",
   "language": "python",
   "name": "python3"
  },
  "language_info": {
   "codemirror_mode": {
    "name": "ipython",
    "version": 3
   },
   "file_extension": ".py",
   "mimetype": "text/x-python",
   "name": "python",
   "nbconvert_exporter": "python",
   "pygments_lexer": "ipython3",
   "version": "3.8.16"
  },
  "orig_nbformat": 4
 },
 "nbformat": 4,
 "nbformat_minor": 2
}
