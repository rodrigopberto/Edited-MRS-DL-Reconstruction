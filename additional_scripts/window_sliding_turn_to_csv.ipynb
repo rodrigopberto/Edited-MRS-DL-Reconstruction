{
 "cells": [
  {
   "cell_type": "code",
   "execution_count": 1,
   "metadata": {},
   "outputs": [],
   "source": [
    "import pandas as pd\n",
    "import numpy as np\n",
    "import matlab.engine\n",
    "import os\n",
    "import sys\n",
    "from tqdm import tqdm"
   ]
  },
  {
   "cell_type": "code",
   "execution_count": 2,
   "metadata": {},
   "outputs": [],
   "source": [
    "def extract_fit_info(mrs_fit):\n",
    "    gaba = mrs_fit[\"GABA\"]\n",
    "\n",
    "    gaba_linewidth = float(gaba[\"FWHM\"])\n",
    "    gaba_snr = float(gaba[\"SNR\"])\n",
    "    gaba_fit_error = float(gaba[\"FitError\"])\n",
    "    gaba_conc_water = float(gaba[\"ConcIU\"])\n",
    "    gaba_conc_cr = float(gaba[\"ConcCr\"])\n",
    "\n",
    "    glx = mrs_fit[\"Glx\"]\n",
    "\n",
    "    glx_linewidth = float(glx[\"FWHM\"])\n",
    "    glx_snr = float(glx[\"SNR\"])\n",
    "    glx_fit_error = float(glx[\"FitError\"])\n",
    "    glx_conc_water = float(glx[\"ConcIU\"])\n",
    "    glx_conc_cr = float(glx[\"ConcCr\"])\n",
    "\n",
    "    return {\n",
    "        \"gaba_snr\":gaba_snr,\n",
    "        \"gaba_linewidth\":gaba_linewidth,\n",
    "        \"gaba_fit_error\":gaba_fit_error,\n",
    "        \"gaba_conc_water\":gaba_conc_water,\n",
    "        \"gaba_conc_cr\":gaba_conc_cr,\n",
    "        \"glx_snr\":glx_snr,\n",
    "        \"glx_linewidth\":glx_linewidth,\n",
    "        \"glx_fit_error\":glx_fit_error,\n",
    "        \"glx_conc_water\":glx_conc_water,\n",
    "        \"glx_conc_cr\":glx_conc_cr,\n",
    "    }"
   ]
  },
  {
   "cell_type": "code",
   "execution_count": 3,
   "metadata": {},
   "outputs": [],
   "source": [
    "eng = matlab.engine.start_matlab()"
   ]
  },
  {
   "cell_type": "code",
   "execution_count": 26,
   "metadata": {},
   "outputs": [
    {
     "data": {
      "text/plain": [
       "['g4_s03_range_101_180.mat',\n",
       " 'g4_s03_range_111_190.mat',\n",
       " 'g4_s03_range_11_90.mat',\n",
       " 'g4_s03_range_121_200.mat',\n",
       " 'g4_s03_range_131_210.mat',\n",
       " 'g4_s03_range_141_220.mat',\n",
       " 'g4_s03_range_151_230.mat',\n",
       " 'g4_s03_range_161_240.mat',\n",
       " 'g4_s03_range_171_250.mat',\n",
       " 'g4_s03_range_181_260.mat',\n",
       " 'g4_s03_range_191_270.mat',\n",
       " 'g4_s03_range_1_80.mat',\n",
       " 'g4_s03_range_201_280.mat',\n",
       " 'g4_s03_range_211_290.mat',\n",
       " 'g4_s03_range_21_100.mat',\n",
       " 'g4_s03_range_221_300.mat',\n",
       " 'g4_s03_range_231_310.mat',\n",
       " 'g4_s03_range_241_320.mat',\n",
       " 'g4_s03_range_31_110.mat',\n",
       " 'g4_s03_range_41_120.mat']"
      ]
     },
     "execution_count": 26,
     "metadata": {},
     "output_type": "execute_result"
    }
   ],
   "source": [
    "idx=50\n",
    "filenames[idx:idx+20]"
   ]
  },
  {
   "cell_type": "code",
   "execution_count": 4,
   "metadata": {},
   "outputs": [],
   "source": [
    "read_folder = \"data/gannet_acc_fit_ranges/\"\n",
    "filenames = os.listdir(read_folder)\n",
    "\n",
    "pre_df = []\n",
    "for filename in filenames:\n",
    "    \n",
    "    range_start = filename.split(\".\")[0].split(\"_\")[-2]\n",
    "    range_end = filename.split(\".\")[0].split(\"_\")[-1].split(\".\")[0]\n",
    "    file_id = filename[:6]\n",
    "    if file_id[:3]==\"p10\":\n",
    "        file_id=filename[:7]\n",
    "    #\n",
    "    mrs_fit = eng.load(f\"{read_folder}/{filename}\")[\"mrs_fit\"][\"vox1\"]\n",
    "    pre_row = {\"filename\":file_id,\"range\":f\"{range_start}-{range_end}\"}\n",
    "    mrs_fit_info = extract_fit_info(mrs_fit)\n",
    "    pre_row.update(mrs_fit_info)\n",
    "    pre_df.append(pre_row)\n",
    "\n",
    "df = pd.DataFrame(pre_df)"
   ]
  },
  {
   "cell_type": "code",
   "execution_count": 5,
   "metadata": {},
   "outputs": [],
   "source": [
    "df.to_csv(\"eval/fit_ranges/acc_ref_df.csv\",index=False)"
   ]
  },
  {
   "cell_type": "code",
   "execution_count": 48,
   "metadata": {},
   "outputs": [],
   "source": [
    "df.to_csv(\"window_sliding_csvs/acc.csv\",index=False)"
   ]
  },
  {
   "cell_type": "code",
   "execution_count": 16,
   "metadata": {},
   "outputs": [
    {
     "data": {
      "text/plain": [
       "(3600, 12)"
      ]
     },
     "execution_count": 16,
     "metadata": {},
     "output_type": "execute_result"
    }
   ],
   "source": [
    "df.shape[0]/1"
   ]
  },
  {
   "cell_type": "code",
   "execution_count": 50,
   "metadata": {},
   "outputs": [
    {
     "data": {
      "text/plain": [
       "gaba_conc_water    0.178824\n",
       "gaba_conc_cr       0.010159\n",
       "dtype: float64"
      ]
     },
     "execution_count": 50,
     "metadata": {},
     "output_type": "execute_result"
    }
   ],
   "source": [
    "df.groupby(\"filename\").agg({\"gaba_conc_water\":\"std\",\"gaba_conc_cr\":\"std\"}).median()"
   ]
  }
 ],
 "metadata": {
  "kernelspec": {
   "display_name": "thesis",
   "language": "python",
   "name": "python3"
  },
  "language_info": {
   "codemirror_mode": {
    "name": "ipython",
    "version": 3
   },
   "file_extension": ".py",
   "mimetype": "text/x-python",
   "name": "python",
   "nbconvert_exporter": "python",
   "pygments_lexer": "ipython3",
   "version": "3.8.16"
  },
  "orig_nbformat": 4
 },
 "nbformat": 4,
 "nbformat_minor": 2
}
