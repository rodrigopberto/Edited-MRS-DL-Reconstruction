{
 "cells": [
  {
   "cell_type": "code",
   "execution_count": 1,
   "metadata": {},
   "outputs": [],
   "source": [
    "import pandas as pd\n",
    "import matplotlib.pyplot as plt\n",
    "import json\n",
    "import os\n",
    "import numpy as np\n",
    "import scipy.stats as st\n",
    "import seaborn as sns"
   ]
  },
  {
   "cell_type": "code",
   "execution_count": 6,
   "metadata": {},
   "outputs": [],
   "source": [
    "folder = \"../final_test_jsons\"\n",
    "file_infos = [\n",
    "    (\"20230627_final_sim_pre_down_unet_2d.json\",\"unet_2d_sim\"),\n",
    "    (\"20230627_ft_sim_final_pre_down_unet_2d_split_1.json\",\"unet_2d_ft\"),\n",
    "    (\"20230628_final_pre_down_unet_2d_split_1.json\",\"unet_2d_invivo\"),\n",
    "    (\"20230629_final_pre_down_unet_2d_split_1_onoff.json\",\"unet_2d_invivo_onoff\"),\n",
    "    (\"20230629_final_sim_pre_down_unet_2d_onoff.json\",\"unet_2d_sim_onoff\"),\n",
    "    (\"20230629_ft_sim_final_pre_down_unet_2d_split_1_onoff.json\",\"unet_2d_ft_onoff\"),\n",
    "    (\"20230629_unet_1d_diff.json\",\"unet_1d_sim\"),\n",
    "    (\"20230629_ft_sim_final_\")\n",
    "]"
   ]
  },
  {
   "cell_type": "code",
   "execution_count": 7,
   "metadata": {},
   "outputs": [],
   "source": [
    "dfs=[]\n",
    "for file_info in file_infos:\n",
    "    with open(f\"{folder}/{file_info[0]}\") as f:\n",
    "        file_json = json.load(f)\n",
    "        row_df = pd.DataFrame({\n",
    "            \"model\":file_info[1],\n",
    "            \"scan_n\":np.arange(1,37),\n",
    "            \"mse\":file_json[\"metrics\"][\"mse\"],\n",
    "            \"gaba_snr\":file_json[\"metrics\"][\"gaba_snr\"],\n",
    "            \"shape_score\":file_json[\"metrics\"][\"shape_score\"]\n",
    "        })\n",
    "        dfs.append(row_df)\n",
    "\n",
    "df = pd.concat(dfs,sort=False)\n"
   ]
  },
  {
   "cell_type": "code",
   "execution_count": 8,
   "metadata": {},
   "outputs": [
    {
     "data": {
      "text/html": [
       "<div>\n",
       "<style scoped>\n",
       "    .dataframe tbody tr th:only-of-type {\n",
       "        vertical-align: middle;\n",
       "    }\n",
       "\n",
       "    .dataframe tbody tr th {\n",
       "        vertical-align: top;\n",
       "    }\n",
       "\n",
       "    .dataframe thead th {\n",
       "        text-align: right;\n",
       "    }\n",
       "</style>\n",
       "<table border=\"1\" class=\"dataframe\">\n",
       "  <thead>\n",
       "    <tr style=\"text-align: right;\">\n",
       "      <th></th>\n",
       "      <th>mse</th>\n",
       "      <th>gaba_snr</th>\n",
       "      <th>shape_score</th>\n",
       "    </tr>\n",
       "    <tr>\n",
       "      <th>model</th>\n",
       "      <th></th>\n",
       "      <th></th>\n",
       "      <th></th>\n",
       "    </tr>\n",
       "  </thead>\n",
       "  <tbody>\n",
       "    <tr>\n",
       "      <th>unet_2d_ft</th>\n",
       "      <td>0.019527</td>\n",
       "      <td>NaN</td>\n",
       "      <td>0.981676</td>\n",
       "    </tr>\n",
       "    <tr>\n",
       "      <th>unet_2d_ft_onoff</th>\n",
       "      <td>0.056630</td>\n",
       "      <td>NaN</td>\n",
       "      <td>0.889453</td>\n",
       "    </tr>\n",
       "    <tr>\n",
       "      <th>unet_2d_invivo</th>\n",
       "      <td>0.020998</td>\n",
       "      <td>42.032258</td>\n",
       "      <td>0.981868</td>\n",
       "    </tr>\n",
       "    <tr>\n",
       "      <th>unet_2d_invivo_onoff</th>\n",
       "      <td>0.037407</td>\n",
       "      <td>NaN</td>\n",
       "      <td>0.938531</td>\n",
       "    </tr>\n",
       "    <tr>\n",
       "      <th>unet_2d_sim</th>\n",
       "      <td>0.305044</td>\n",
       "      <td>6.848261</td>\n",
       "      <td>0.103774</td>\n",
       "    </tr>\n",
       "    <tr>\n",
       "      <th>unet_2d_sim_onoff</th>\n",
       "      <td>4.704780</td>\n",
       "      <td>126.797930</td>\n",
       "      <td>0.575780</td>\n",
       "    </tr>\n",
       "  </tbody>\n",
       "</table>\n",
       "</div>"
      ],
      "text/plain": [
       "                           mse    gaba_snr  shape_score\n",
       "model                                                  \n",
       "unet_2d_ft            0.019527         NaN     0.981676\n",
       "unet_2d_ft_onoff      0.056630         NaN     0.889453\n",
       "unet_2d_invivo        0.020998   42.032258     0.981868\n",
       "unet_2d_invivo_onoff  0.037407         NaN     0.938531\n",
       "unet_2d_sim           0.305044    6.848261     0.103774\n",
       "unet_2d_sim_onoff     4.704780  126.797930     0.575780"
      ]
     },
     "execution_count": 8,
     "metadata": {},
     "output_type": "execute_result"
    }
   ],
   "source": [
    "df.groupby(\"model\").agg({\"mse\":\"mean\",\"gaba_snr\":\"mean\",\"shape_score\":\"mean\"})"
   ]
  },
  {
   "cell_type": "code",
   "execution_count": 7,
   "metadata": {},
   "outputs": [],
   "source": [
    "### quantification analysis\n",
    "q_folder = \"../final_quantification\"\n",
    "q_file_infos = [\n",
    "    (\"20230627_ft_sim_final_pre_down_unet_2d_split_1.pth.csv\",\"unet_2d_ft\"),\n",
    "    (\"20230628_final_pre_down_unet_2d_split_1.pth.csv\",\"unet_2d_invivo\"),\n",
    "    (\"20230629_final_pre_down_unet_2d_split_1_onoff.pth.csv\",\"unet_2d_invivo_onoff\"),\n",
    "    (\"20230629_ft_sim_final_pre_down_unet_2d_split_1_onoff.pth.csv\",\"unet_2d_ft_onoff\"),\n",
    "]\n",
    "\n",
    "dfs=[]\n",
    "for q_file_info in q_file_infos:\n",
    "    i_df = pd.read_csv(f\"{q_folder}/{q_file_info[0]}\")\n",
    "    i_df[\"model\"]=q_file_info[1]\n",
    "    dfs.append(i_df)\n",
    "\n",
    "df = pd.concat(dfs,sort=False)"
   ]
  },
  {
   "cell_type": "code",
   "execution_count": 9,
   "metadata": {},
   "outputs": [
    {
     "name": "stdout",
     "output_type": "stream",
     "text": [
      "                      gaba_fit_error\n",
      "model                               \n",
      "unet_2d_ft                  4.353714\n",
      "unet_2d_ft_onoff            1.556982\n",
      "unet_2d_invivo              4.807314\n",
      "unet_2d_invivo_onoff        4.562827\n",
      "                      gaba_fit_error\n",
      "model                               \n",
      "unet_2d_ft                  2.983080\n",
      "unet_2d_ft_onoff           10.609316\n",
      "unet_2d_invivo              4.124764\n",
      "unet_2d_invivo_onoff        2.355621\n",
      "                      gaba_fit_error\n",
      "model                               \n",
      "unet_2d_ft                  3.395728\n",
      "unet_2d_ft_onoff            3.029113\n",
      "unet_2d_invivo              3.343816\n",
      "unet_2d_invivo_onoff        3.770344\n"
     ]
    }
   ],
   "source": [
    "print(df.groupby(\"model\").agg({\"gaba_fit_error\":\"mean\"}))\n",
    "print(df.groupby(\"model\").agg({\"gaba_fit_error\":\"std\"}))\n",
    "print(df.groupby(\"model\").agg({\"gaba_fit_error\":\"median\"}))"
   ]
  },
  {
   "cell_type": "code",
   "execution_count": 17,
   "metadata": {},
   "outputs": [
    {
     "data": {
      "image/png": "[encoded data removed]",
      "text/plain": [
       "<Figure size 640x480 with 1 Axes>"
      ]
     },
     "metadata": {},
     "output_type": "display_data"
    }
   ],
   "source": [
    "sns.boxplot(data=df,x=\"model\",y=\"gaba_fit_error\")\n",
    "plt.show()"
   ]
  },
  {
   "cell_type": "code",
   "execution_count": null,
   "metadata": {},
   "outputs": [],
   "source": []
  },
  {
   "cell_type": "code",
   "execution_count": 15,
   "metadata": {},
   "outputs": [
    {
     "data": {
      "text/plain": [
       "WilcoxonResult(statistic=296.0, pvalue=0.5706635903334245)"
      ]
     },
     "execution_count": 15,
     "metadata": {},
     "output_type": "execute_result"
    }
   ],
   "source": [
    "gaba_fit_errors=[]\n",
    "for q_file_info in q_file_infos:\n",
    "    i_df = pd.read_csv(f\"{q_folder}/{q_file_info[0]}\")\n",
    "    gaba_fit_errors.append(i_df[\"gaba_fit_error\"].values)\n",
    "\n",
    "st.wilcoxon(gaba_fit_errors[0],gaba_fit_errors[1])"
   ]
  }
 ],
 "metadata": {
  "kernelspec": {
   "display_name": "thesis",
   "language": "python",
   "name": "python3"
  },
  "language_info": {
   "codemirror_mode": {
    "name": "ipython",
    "version": 3
   },
   "file_extension": ".py",
   "mimetype": "text/x-python",
   "name": "python",
   "nbconvert_exporter": "python",
   "pygments_lexer": "ipython3",
   "version": "3.8.16"
  },
  "orig_nbformat": 4
 },
 "nbformat": 4,
 "nbformat_minor": 2
}
