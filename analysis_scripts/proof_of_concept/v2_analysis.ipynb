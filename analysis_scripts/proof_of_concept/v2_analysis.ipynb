{
 "cells": [
  {
   "cell_type": "code",
   "execution_count": 3,
   "metadata": {},
   "outputs": [],
   "source": [
    "import pandas as pd\n",
    "import scipy.stats as st"
   ]
  },
  {
   "cell_type": "code",
   "execution_count": 2,
   "metadata": {},
   "outputs": [],
   "source": [
    "df1 = pd.read_csv(\"../model_quantification/20230703_miccai_sim_pre_down_unet_2d_v2.pth.csv\")\n",
    "df2 = pd.read_csv(\"../model_quantification/20230703_miccai_ft_pre_down_unet_2d_v2.pth.csv\")"
   ]
  },
  {
   "cell_type": "code",
   "execution_count": 4,
   "metadata": {},
   "outputs": [
    {
     "name": "stdout",
     "output_type": "stream",
     "text": [
      "4.4086773232345315\n",
      "4.39382201729666\n",
      "0.5920094623870682\n"
     ]
    }
   ],
   "source": [
    "metric = \"gaba_fit_error\"\n",
    "\n",
    "print(df1[metric].mean())\n",
    "print(df2[metric].mean())\n",
    "print(st.wilcoxon(df1[metric],df2[metric]).pvalue)"
   ]
  }
 ],
 "metadata": {
  "kernelspec": {
   "display_name": "thesis",
   "language": "python",
   "name": "python3"
  },
  "language_info": {
   "codemirror_mode": {
    "name": "ipython",
    "version": 3
   },
   "file_extension": ".py",
   "mimetype": "text/x-python",
   "name": "python",
   "nbconvert_exporter": "python",
   "pygments_lexer": "ipython3",
   "version": "3.8.16"
  },
  "orig_nbformat": 4
 },
 "nbformat": 4,
 "nbformat_minor": 2
}
