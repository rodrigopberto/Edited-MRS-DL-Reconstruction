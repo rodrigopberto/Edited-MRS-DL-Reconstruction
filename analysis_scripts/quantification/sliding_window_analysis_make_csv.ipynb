{
 "cells": [
  {
   "cell_type": "code",
   "execution_count": 1,
   "metadata": {},
   "outputs": [],
   "source": [
    "import h5py\n",
    "import matlab.engine\n",
    "import pandas as pd\n",
    "import sys\n",
    "import os"
   ]
  },
  {
   "cell_type": "code",
   "execution_count": 2,
   "metadata": {},
   "outputs": [],
   "source": [
    "eng = matlab.engine.start_matlab()"
   ]
  },
  {
   "cell_type": "code",
   "execution_count": 3,
   "metadata": {},
   "outputs": [],
   "source": [
    "def extract_fit_info(mrs_fit):\n",
    "    gaba = mrs_fit[\"GABA\"]\n",
    "\n",
    "    gaba_linewidth = float(gaba[\"FWHM\"])\n",
    "    gaba_snr = float(gaba[\"SNR\"])\n",
    "    gaba_fit_error = float(gaba[\"FitError\"])\n",
    "    gaba_conc_water = float(gaba[\"ConcIU\"])\n",
    "    gaba_conc_cr = float(gaba[\"ConcCr\"])\n",
    "\n",
    "    glx = mrs_fit[\"Glx\"]\n",
    "\n",
    "    glx_linewidth = float(glx[\"FWHM\"])\n",
    "    glx_snr = float(glx[\"SNR\"])\n",
    "    glx_fit_error = float(glx[\"FitError\"])\n",
    "    glx_conc_water = float(glx[\"ConcIU\"])\n",
    "    glx_conc_cr = float(glx[\"ConcCr\"])\n",
    "\n",
    "    return {\n",
    "        \"gaba_snr\":gaba_snr,\n",
    "        \"gaba_linewidth\":gaba_linewidth,\n",
    "        \"gaba_fit_error\":gaba_fit_error,\n",
    "        \"gaba_conc_water\":gaba_conc_water,\n",
    "        \"gaba_conc_cr\":gaba_conc_cr,\n",
    "        \"glx_snr\":glx_snr,\n",
    "        \"glx_linewidth\":glx_linewidth,\n",
    "        \"glx_fit_error\":glx_fit_error,\n",
    "        \"glx_conc_water\":glx_conc_water,\n",
    "        \"glx_conc_cr\":glx_conc_cr,\n",
    "    }\n"
   ]
  },
  {
   "cell_type": "code",
   "execution_count": 6,
   "metadata": {},
   "outputs": [],
   "source": [
    "## make acc pre_results\n",
    "input_folder = \"../data/gannet_acc_fit_ranges\"\n",
    "filenames = os.listdir(input_folder)\n",
    "pre_df = []\n",
    "for filename in filenames:\n",
    "    row_filename = filename[:6]\n",
    "    row_range = f\"{filename.split('_')[3]}-{filename.split('_')[4]}\"\n",
    "    row_dict = {\"filename\":row_filename,\"range\":row_range}\n",
    "    mrs_fit = eng.load(f\"{input_folder}/{filename}\")[\"mrs_fit\"][\"vox1\"]\n",
    "    row_dict.update(extract_fit_info(mrs_fit))\n",
    "    pre_df.append(row_dict)\n",
    "    del mrs_fit\n",
    "\n",
    "acc_df = pd.DataFrame(pre_df)\n",
    "\n",
    "acc_df.to_csv(\"../eval/fit_ranges/acc_ref_df.csv\",index=False)    "
   ]
  },
  {
   "cell_type": "code",
   "execution_count": 7,
   "metadata": {},
   "outputs": [
    {
     "data": {
      "text/plain": [
       "(3600, 12)"
      ]
     },
     "execution_count": 7,
     "metadata": {},
     "output_type": "execute_result"
    }
   ],
   "source": [
    "acc_df.shape"
   ]
  },
  {
   "cell_type": "code",
   "execution_count": 9,
   "metadata": {},
   "outputs": [],
   "source": [
    "ref_df = pd.read_csv(\"../pre_results/full_ref_df.csv\")"
   ]
  },
  {
   "cell_type": "code",
   "execution_count": 14,
   "metadata": {},
   "outputs": [],
   "source": [
    "i_df = acc_df.copy()\n",
    "\n",
    "i_df = pd.merge(i_df,ref_df,on=\"filename\",suffixes=(\"_acc\",\"_ref\"))\n",
    "\n",
    "metric = \"gaba_conc_cr\"\n",
    "i_df[\"abs_diff_mean\"] = abs(i_df[f\"{metric}_acc\"] - i_df[f\"{metric}_ref\"])\n",
    "i_df[\"ref\"] = i_df[f\"{metric}_ref\"]\n",
    "i_df[\"mean\"] = i_df[f\"{metric}_acc\"]\n",
    "i_df[\"std\"] = i_df[f\"{metric}_acc\"]\n",
    "\n",
    "a_df = i_df.groupby(\"filename\").agg({\"ref\":\"mean\",\"mean\":\"mean\",\"std\":\"std\",\"abs_diff_mean\":\"mean\"})\n"
   ]
  },
  {
   "cell_type": "code",
   "execution_count": 15,
   "metadata": {},
   "outputs": [
    {
     "data": {
      "text/html": [
       "<div>\n",
       "<style scoped>\n",
       "    .dataframe tbody tr th:only-of-type {\n",
       "        vertical-align: middle;\n",
       "    }\n",
       "\n",
       "    .dataframe tbody tr th {\n",
       "        vertical-align: top;\n",
       "    }\n",
       "\n",
       "    .dataframe thead th {\n",
       "        text-align: right;\n",
       "    }\n",
       "</style>\n",
       "<table border=\"1\" class=\"dataframe\">\n",
       "  <thead>\n",
       "    <tr style=\"text-align: right;\">\n",
       "      <th></th>\n",
       "      <th>ref</th>\n",
       "      <th>mean</th>\n",
       "      <th>std</th>\n",
       "      <th>abs_diff_mean</th>\n",
       "    </tr>\n",
       "    <tr>\n",
       "      <th>filename</th>\n",
       "      <th></th>\n",
       "      <th></th>\n",
       "      <th></th>\n",
       "      <th></th>\n",
       "    </tr>\n",
       "  </thead>\n",
       "  <tbody>\n",
       "    <tr>\n",
       "      <th>g7_s11</th>\n",
       "      <td>0.187954</td>\n",
       "      <td>-30.902075</td>\n",
       "      <td>114.163166</td>\n",
       "      <td>32.366113</td>\n",
       "    </tr>\n",
       "    <tr>\n",
       "      <th>g8_s08</th>\n",
       "      <td>0.839502</td>\n",
       "      <td>1.438407</td>\n",
       "      <td>4.213680</td>\n",
       "      <td>1.316704</td>\n",
       "    </tr>\n",
       "    <tr>\n",
       "      <th>p6_s01</th>\n",
       "      <td>0.117541</td>\n",
       "      <td>0.671483</td>\n",
       "      <td>1.932859</td>\n",
       "      <td>0.569358</td>\n",
       "    </tr>\n",
       "    <tr>\n",
       "      <th>p4_s10</th>\n",
       "      <td>0.125266</td>\n",
       "      <td>0.589521</td>\n",
       "      <td>0.904422</td>\n",
       "      <td>0.475708</td>\n",
       "    </tr>\n",
       "    <tr>\n",
       "      <th>p4_s05</th>\n",
       "      <td>0.284771</td>\n",
       "      <td>0.469445</td>\n",
       "      <td>0.497746</td>\n",
       "      <td>0.350387</td>\n",
       "    </tr>\n",
       "    <tr>\n",
       "      <th>...</th>\n",
       "      <td>...</td>\n",
       "      <td>...</td>\n",
       "      <td>...</td>\n",
       "      <td>...</td>\n",
       "    </tr>\n",
       "    <tr>\n",
       "      <th>s8_s10</th>\n",
       "      <td>0.109508</td>\n",
       "      <td>0.109793</td>\n",
       "      <td>0.004172</td>\n",
       "      <td>0.003516</td>\n",
       "    </tr>\n",
       "    <tr>\n",
       "      <th>p8_s11</th>\n",
       "      <td>0.111600</td>\n",
       "      <td>0.112464</td>\n",
       "      <td>0.004117</td>\n",
       "      <td>0.003486</td>\n",
       "    </tr>\n",
       "    <tr>\n",
       "      <th>s1_s06</th>\n",
       "      <td>0.116359</td>\n",
       "      <td>0.114794</td>\n",
       "      <td>0.003805</td>\n",
       "      <td>0.003179</td>\n",
       "    </tr>\n",
       "    <tr>\n",
       "      <th>s1_s08</th>\n",
       "      <td>0.110843</td>\n",
       "      <td>0.109546</td>\n",
       "      <td>0.003598</td>\n",
       "      <td>0.003045</td>\n",
       "    </tr>\n",
       "    <tr>\n",
       "      <th>s8_s02</th>\n",
       "      <td>0.109895</td>\n",
       "      <td>0.110584</td>\n",
       "      <td>0.003568</td>\n",
       "      <td>0.002968</td>\n",
       "    </tr>\n",
       "  </tbody>\n",
       "</table>\n",
       "<p>132 rows × 4 columns</p>\n",
       "</div>"
      ],
      "text/plain": [
       "               ref       mean         std  abs_diff_mean\n",
       "filename                                                \n",
       "g7_s11    0.187954 -30.902075  114.163166      32.366113\n",
       "g8_s08    0.839502   1.438407    4.213680       1.316704\n",
       "p6_s01    0.117541   0.671483    1.932859       0.569358\n",
       "p4_s10    0.125266   0.589521    0.904422       0.475708\n",
       "p4_s05    0.284771   0.469445    0.497746       0.350387\n",
       "...            ...        ...         ...            ...\n",
       "s8_s10    0.109508   0.109793    0.004172       0.003516\n",
       "p8_s11    0.111600   0.112464    0.004117       0.003486\n",
       "s1_s06    0.116359   0.114794    0.003805       0.003179\n",
       "s1_s08    0.110843   0.109546    0.003598       0.003045\n",
       "s8_s02    0.109895   0.110584    0.003568       0.002968\n",
       "\n",
       "[132 rows x 4 columns]"
      ]
     },
     "execution_count": 15,
     "metadata": {},
     "output_type": "execute_result"
    }
   ],
   "source": [
    "a_df.sort_values(\"abs_diff_mean\",ascending=False)"
   ]
  }
 ],
 "metadata": {
  "kernelspec": {
   "display_name": "thesis",
   "language": "python",
   "name": "python3"
  },
  "language_info": {
   "codemirror_mode": {
    "name": "ipython",
    "version": 3
   },
   "file_extension": ".py",
   "mimetype": "text/x-python",
   "name": "python",
   "nbconvert_exporter": "python",
   "pygments_lexer": "ipython3",
   "version": "3.8.16"
  },
  "orig_nbformat": 4
 },
 "nbformat": 4,
 "nbformat_minor": 2
}
