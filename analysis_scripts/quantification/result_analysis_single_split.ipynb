{
 "cells": [
  {
   "cell_type": "code",
   "execution_count": 1,
   "metadata": {},
   "outputs": [],
   "source": [
    "import pandas as pd\n",
    "import matplotlib.pyplot as plt\n",
    "import seaborn as sns\n",
    "import numpy as np\n",
    "import scipy.stats as st"
   ]
  },
  {
   "cell_type": "code",
   "execution_count": 2,
   "metadata": {},
   "outputs": [],
   "source": [
    "files = [\"split_1.csv\",\"split_2.csv\",\"split_3.csv\",\"split_4.csv\"]\n",
    "files=[\"split_2.csv\"]\n",
    "dfs = []\n",
    "for filename in files:\n",
    "    i_df = pd.read_csv(\"../eval/quantifications/{}\".format(filename))\n",
    "    dfs.append(i_df)\n",
    "\n",
    "df = pd.concat(dfs,sort=False)\n",
    "filenames = list(df[\"filename\"].unique())\n",
    "\n",
    "\n",
    "full_df = pd.read_csv(\"../pre_results/full_ref_df.csv\")\n",
    "acc_df = pd.read_csv(\"../pre_results/acc_ref_df.csv\")\n",
    "\n",
    "full_df = full_df[full_df[\"filename\"].isin(filenames)]\n",
    "acc_df = acc_df[acc_df[\"filename\"].isin(filenames)]\n",
    "\n",
    "c_df = pd.merge(df,full_df,on=\"filename\",suffixes=(\"\",\"_full\"))\n",
    "c_df = pd.merge(c_df,acc_df,on=\"filename\",suffixes=(\"_model\",\"_acc\"))\n",
    "\n",
    "df[\"model\"]=\"model\"\n",
    "full_df[\"model\"]=\"full\"\n",
    "acc_df[\"model\"]=\"acc\"\n",
    "df = pd.concat([df,full_df,acc_df],sort=False)\n",
    "\n",
    "c_df[\"gaba_conc_cr_model_error\"] = c_df[\"gaba_conc_cr_model\"]-c_df[\"gaba_conc_cr_full\"]\n",
    "c_df[\"gaba_conc_cr_model_abs_error\"] = abs(c_df[\"gaba_conc_cr_model_error\"])\n",
    "c_df[\"gaba_conc_water_model_error\"] = c_df[\"gaba_conc_water_model\"]-c_df[\"gaba_conc_water_full\"]\n",
    "c_df[\"gaba_conc_water_model_abs_error\"] = abs(c_df[\"gaba_conc_water_model_error\"])\n",
    "\n",
    "c_df[\"gaba_conc_cr_acc_error\"] = c_df[\"gaba_conc_cr_acc\"]-c_df[\"gaba_conc_cr_full\"]\n",
    "c_df[\"gaba_conc_cr_acc_abs_error\"] = abs(c_df[\"gaba_conc_cr_acc_error\"])\n",
    "c_df[\"gaba_conc_water_acc_error\"] = c_df[\"gaba_conc_water_acc\"]-c_df[\"gaba_conc_water_full\"]\n",
    "c_df[\"gaba_conc_water_acc_abs_error\"] = abs(c_df[\"gaba_conc_water_acc_error\"])\n",
    "\n",
    "c_df[\"gaba_conc_cr_model_rel_error\"] = c_df[\"gaba_conc_cr_model_error\"]/c_df[\"gaba_conc_cr_full\"]\n",
    "c_df[\"gaba_conc_cr_acc_rel_error\"] = c_df[\"gaba_conc_cr_acc_error\"]/c_df[\"gaba_conc_cr_full\"]\n",
    "c_df[\"gaba_conc_cr_model_rel_abs_error\"] = c_df[\"gaba_conc_cr_model_abs_error\"]/c_df[\"gaba_conc_cr_full\"]\n",
    "c_df[\"gaba_conc_cr_acc_rel_abs_error\"] = c_df[\"gaba_conc_cr_acc_abs_error\"]/c_df[\"gaba_conc_cr_full\"]"
   ]
  },
  {
   "cell_type": "code",
   "execution_count": 3,
   "metadata": {},
   "outputs": [
    {
     "name": "stdout",
     "output_type": "stream",
     "text": [
      "Conc Cr Abs Error:\n",
      "Means + Std => Model: 0.094 +- 0.468 / Acc: 0.190 +- 1.093 => p-value: 0.0026\n",
      "Medians => Model: 0.015 / Acc: 0.008\n",
      "\n",
      "Conc Cr rel Error:\n",
      "Means + Std => Model: 1.082 +- 5.635 / Acc: 2.261 +- 13.146 => p-value: 0.0029\n",
      "Medians => Model: 0.135 / Acc: 0.066\n",
      "\n",
      "SNRs\n",
      "(36, 43)\n",
      "(0, 43)\n",
      "Means: Model: nan +/- nan  / Full: 22.8 +/- 7.4 / Acc: 12.9 +/- 10.8\n",
      "p-values: Model/Full nan - Model/Acc nan - Full/Acc 0.0000\n",
      "Medians: Model: inf / Full: 21.6 / Acc: 10.4\n",
      "\n",
      "Fit Errors\n",
      "Means: Model: 3.8 +/- 1.4 / Full: 4.1 +/- 1.6 / Acc: 5.8 +/- 2.5\n",
      "p-values: Model/Full 0.3226 - Model/Acc 0.0000 - Full/Acc 0.0000\n",
      "Medians: Model: 3.5 / Full: 3.9 / Acc: 5.3\n"
     ]
    }
   ],
   "source": [
    "#### CR difference analysis\n",
    "## simple table and analysis\n",
    "print(\"Conc Cr Abs Error:\")\n",
    "print(f\"Means + Std => Model: {c_df['gaba_conc_cr_model_abs_error'].mean():.3f} +- {c_df['gaba_conc_cr_model_abs_error'].std():.3f} / Acc: {c_df['gaba_conc_cr_acc_abs_error'].mean():.3f} +- {c_df['gaba_conc_cr_acc_abs_error'].std():.3f} => p-value: {st.wilcoxon(c_df['gaba_conc_cr_model_abs_error'],c_df['gaba_conc_cr_acc_abs_error']).pvalue:.4f}\")\n",
    "print(f\"Medians => Model: {c_df['gaba_conc_cr_model_abs_error'].median():.3f} / Acc: {c_df['gaba_conc_cr_acc_abs_error'].median():.3f}\")\n",
    "print(\"\")\n",
    "#print(\"Conc water Abs Error:\")\n",
    "#print(f\"Means + Std => Model: {c_df['gaba_conc_water_model_abs_error'].mean():.3f} +- {c_df['gaba_conc_water_model_abs_error'].std():.3f} / Acc: {c_df['gaba_conc_water_acc_abs_error'].mean():.3f} +- {c_df['gaba_conc_water_acc_abs_error'].std():.3f} => p-value: {st.wilcoxon(c_df['gaba_conc_water_model_abs_error'],c_df['gaba_conc_water_acc_abs_error']).pvalue:.4f}\")\n",
    "#print(f\"Medians => Model: {c_df['gaba_conc_water_model_abs_error'].median():.3f} / Acc: {c_df['gaba_conc_water_acc_abs_error'].median():.3f}\")\n",
    "#print(\"\")\n",
    "print(\"Conc Cr rel Error:\")\n",
    "print(f\"Means + Std => Model: {c_df['gaba_conc_cr_model_rel_abs_error'].mean():.3f} +- {c_df['gaba_conc_cr_model_rel_abs_error'].std():.3f} / Acc: {c_df['gaba_conc_cr_acc_rel_abs_error'].mean():.3f} +- {c_df['gaba_conc_cr_acc_rel_abs_error'].std():.3f} => p-value: {st.wilcoxon(c_df['gaba_conc_cr_model_rel_abs_error'],c_df['gaba_conc_cr_acc_rel_abs_error']).pvalue:.4f}\")\n",
    "print(f\"Medians => Model: {c_df['gaba_conc_cr_model_rel_abs_error'].median():.3f} / Acc: {c_df['gaba_conc_cr_acc_rel_abs_error'].median():.3f}\")\n",
    "print(\"\")\n",
    "print(\"SNRs\")\n",
    "##filter infinite SNR'set\n",
    "print(c_df.shape)\n",
    "i_cdf = c_df[c_df[\"gaba_snr_model\"]<500].copy()\n",
    "print(i_cdf.shape)\n",
    "print(f\"Means: Model: {i_cdf['gaba_snr_model'].mean():.1f} +/- {i_cdf['gaba_snr_model'].std():.1f}  / Full: {c_df['gaba_snr_full'].mean():.1f} +/- {c_df['gaba_snr_full'].std():.1f} / Acc: {c_df['gaba_snr_acc'].mean():.1f} +/- {c_df['gaba_snr_acc'].std():.1f}\")\n",
    "print(f\"p-values: Model/Full {st.wilcoxon(i_cdf['gaba_snr_model'],i_cdf['gaba_snr_full']).pvalue:.4f} - Model/Acc {st.wilcoxon(i_cdf['gaba_snr_model'],i_cdf['gaba_snr_acc']).pvalue:.4f} - Full/Acc {st.wilcoxon(c_df['gaba_snr_full'],c_df['gaba_snr_acc']).pvalue:.4f}\")\n",
    "print(f\"Medians: Model: {c_df['gaba_snr_model'].median():.1f} / Full: {c_df['gaba_snr_full'].median():.1f} / Acc: {c_df['gaba_snr_acc'].median():.1f}\")\n",
    "print(\"\")\n",
    "print(\"Fit Errors\")\n",
    "print(f\"Means: Model: {c_df['gaba_fit_error_model'].mean():.1f} +/- {c_df['gaba_fit_error_model'].std():.1f} / Full: {c_df['gaba_fit_error_full'].mean():.1f} +/- {c_df['gaba_fit_error_full'].std():.1f} / Acc: {c_df['gaba_fit_error_acc'].mean():.1f} +/- {c_df['gaba_fit_error_acc'].std():.1f}\")\n",
    "print(f\"p-values: Model/Full {st.wilcoxon(c_df['gaba_fit_error_model'],c_df['gaba_fit_error_full']).pvalue:.4f} - Model/Acc {st.wilcoxon(c_df['gaba_fit_error_model'],c_df['gaba_fit_error_acc']).pvalue:.4f} - Full/Acc {st.wilcoxon(c_df['gaba_fit_error_full'],c_df['gaba_fit_error_acc']).pvalue:.4f}\")\n",
    "print(f\"Medians: Model: {c_df['gaba_fit_error_model'].median():.1f} / Full: {c_df['gaba_fit_error_full'].median():.1f} / Acc: {c_df['gaba_fit_error_acc'].median():.1f}\")"
   ]
  },
  {
   "cell_type": "code",
   "execution_count": null,
   "metadata": {},
   "outputs": [],
   "source": [
    "### Making graph of comparison"
   ]
  },
  {
   "cell_type": "code",
   "execution_count": 4,
   "metadata": {},
   "outputs": [
    {
     "data": {
      "image/png": "[encoded data removed]",
      "text/plain": [
       "<Figure size 600x400 with 1 Axes>"
      ]
     },
     "metadata": {},
     "output_type": "display_data"
    }
   ],
   "source": [
    "#### how results change after filtering a bit the worse results\n",
    "i_df = c_df.sort_values(\"gaba_conc_cr_acc_rel_abs_error\",ascending=False)\n",
    "filename_list = list(i_df[\"filename\"])\n",
    "\n",
    "abs_error_accs = []\n",
    "abs_error_models=[]\n",
    "\n",
    "for i in range(len(filename_list)-1):\n",
    "    i_df = c_df[~c_df[\"filename\"].isin(filename_list[:i])]\n",
    "    abs_error_models.append(i_df['gaba_conc_cr_model_rel_abs_error'].mean())\n",
    "    abs_error_accs.append(i_df['gaba_conc_cr_acc_rel_abs_error'].mean())\n",
    "\n",
    "fig,ax = plt.subplots(figsize=(6,4))\n",
    "\n",
    "ax.plot(abs_error_accs,label=\"accs\")\n",
    "ax.plot(abs_error_models,label=\"models\")\n",
    "\n",
    "plt.show()"
   ]
  },
  {
   "cell_type": "code",
   "execution_count": 5,
   "metadata": {},
   "outputs": [
    {
     "data": {
      "image/png": "[encoded data removed]",
      "text/plain": [
       "<Figure size 600x400 with 1 Axes>"
      ]
     },
     "metadata": {},
     "output_type": "display_data"
    }
   ],
   "source": [
    "\n",
    "\n",
    "fig,ax = plt.subplots(figsize=(6,4))\n",
    "\n",
    "i_df = c_df.copy()\n",
    "i_df[\"color\"] = i_df.apply(lambda x: \"orange\" if x[\"gaba_conc_cr_acc_rel_abs_error\"]>x[\"gaba_conc_cr_model_rel_abs_error\"] else \"blue\",axis=1)\n",
    "for color in list(i_df[\"color\"].unique()):\n",
    "    ii_df = i_df[i_df[\"color\"]==color]\n",
    "    if color==\"orange\":\n",
    "        label = f\"RE Model<Gannet: {ii_df.shape[0]}\"\n",
    "    elif color==\"blue\":\n",
    "        label = f\"RE Gannet<Model: {ii_df.shape[0]}\"\n",
    "\n",
    "    ax.scatter(ii_df[\"gaba_conc_cr_acc_rel_abs_error\"],ii_df[\"gaba_conc_cr_model_rel_abs_error\"],color=color,label=label)\n",
    "\n",
    "ax.set_xlim(0.0001,100)\n",
    "ax.set_ylim(0.0001,100)\n",
    "ax.set_yscale('log')\n",
    "ax.set_xscale('log')\n",
    "\n",
    "ax.set_xlabel(\"Relative GABA Conc. Error - Gannet Quarter\")\n",
    "ax.set_ylabel(\"Relative GABA Conc. Error - Model\")\n",
    "\n",
    "ax.plot([0.0001,100],[0.0001,100],\"k:\")\n",
    "\n",
    "plt.legend()\n",
    "plt.show()"
   ]
  },
  {
   "cell_type": "code",
   "execution_count": 6,
   "metadata": {},
   "outputs": [
    {
     "name": "stdout",
     "output_type": "stream",
     "text": [
      "cv_model    0.134466\n",
      "cv_acc      0.086607\n",
      "dtype: float64\n",
      "cv_model    0.216282\n",
      "cv_acc      0.223758\n",
      "dtype: float64\n",
      "cv_model    0.091345\n",
      "cv_acc      0.046914\n",
      "dtype: float64\n",
      "0.000991061155218631\n",
      "Pearson correlation\n",
      "Model:PearsonRResult(statistic=-0.3724845443271679, pvalue=0.025271409245737134)\n",
      "Acc:PearsonRResult(statistic=-0.3858875996177743, pvalue=0.020100942878773207)\n"
     ]
    }
   ],
   "source": [
    "### test retest reliability\n",
    "i_df = c_df.copy()\n",
    "i_df[\"mean_model\"]=(i_df[\"gaba_conc_cr_model\"]+i_df[\"gaba_conc_cr_full\"])/2\n",
    "i_df[\"mean_acc\"]=(i_df[\"gaba_conc_cr_acc\"]+i_df[\"gaba_conc_cr_full\"])/2\n",
    "i_df[\"cv_model\"] = np.sqrt(np.square(i_df[\"mean_model\"]-i_df[\"gaba_conc_cr_model\"])+np.square(i_df[\"mean_model\"]-i_df[\"gaba_conc_cr_full\"]))/i_df[\"mean_model\"]\n",
    "i_df[\"cv_acc\"] = np.sqrt(np.square(i_df[\"mean_acc\"]-i_df[\"gaba_conc_cr_acc\"])+np.square(i_df[\"mean_acc\"]-i_df[\"gaba_conc_cr_full\"]))/i_df[\"mean_acc\"]\n",
    "\n",
    "\n",
    "print(i_df[[\"cv_model\",\"cv_acc\"]].mean())\n",
    "print(i_df[[\"cv_model\",\"cv_acc\"]].std())\n",
    "print(i_df[[\"cv_model\",\"cv_acc\"]].median())\n",
    "print(st.wilcoxon(i_df[\"cv_model\"],i_df[\"cv_acc\"]).pvalue)\n",
    "\n",
    "### pearson correlation\n",
    "print(\"Pearson correlation\")\n",
    "print(f\"Model:{st.pearsonr(i_df['gaba_conc_cr_model'],i_df['gaba_conc_cr_full'])}\")\n",
    "print(f\"Acc:{st.pearsonr(i_df['gaba_conc_cr_acc'],i_df['gaba_conc_cr_full'])}\")\n",
    "\n"
   ]
  },
  {
   "cell_type": "code",
   "execution_count": 27,
   "metadata": {},
   "outputs": [
    {
     "data": {
      "text/html": [
       "<div>\n",
       "<style scoped>\n",
       "    .dataframe tbody tr th:only-of-type {\n",
       "        vertical-align: middle;\n",
       "    }\n",
       "\n",
       "    .dataframe tbody tr th {\n",
       "        vertical-align: top;\n",
       "    }\n",
       "\n",
       "    .dataframe thead th {\n",
       "        text-align: right;\n",
       "    }\n",
       "</style>\n",
       "<table border=\"1\" class=\"dataframe\">\n",
       "  <thead>\n",
       "    <tr style=\"text-align: right;\">\n",
       "      <th></th>\n",
       "      <th>filename</th>\n",
       "      <th>gaba_conc_cr_model_abs_error</th>\n",
       "    </tr>\n",
       "  </thead>\n",
       "  <tbody>\n",
       "    <tr>\n",
       "      <th>58</th>\n",
       "      <td>p10_s02</td>\n",
       "      <td>2.824313</td>\n",
       "    </tr>\n",
       "    <tr>\n",
       "      <th>118</th>\n",
       "      <td>g8_s08</td>\n",
       "      <td>0.750247</td>\n",
       "    </tr>\n",
       "    <tr>\n",
       "      <th>7</th>\n",
       "      <td>g7_s11</td>\n",
       "      <td>0.443978</td>\n",
       "    </tr>\n",
       "    <tr>\n",
       "      <th>85</th>\n",
       "      <td>p4_s05</td>\n",
       "      <td>0.214509</td>\n",
       "    </tr>\n",
       "    <tr>\n",
       "      <th>114</th>\n",
       "      <td>g7_s07</td>\n",
       "      <td>0.052070</td>\n",
       "    </tr>\n",
       "    <tr>\n",
       "      <th>...</th>\n",
       "      <td>...</td>\n",
       "      <td>...</td>\n",
       "    </tr>\n",
       "    <tr>\n",
       "      <th>77</th>\n",
       "      <td>g5_s06</td>\n",
       "      <td>0.000192</td>\n",
       "    </tr>\n",
       "    <tr>\n",
       "      <th>81</th>\n",
       "      <td>g8_s04</td>\n",
       "      <td>0.000158</td>\n",
       "    </tr>\n",
       "    <tr>\n",
       "      <th>115</th>\n",
       "      <td>g7_s08</td>\n",
       "      <td>0.000090</td>\n",
       "    </tr>\n",
       "    <tr>\n",
       "      <th>4</th>\n",
       "      <td>g5_s11</td>\n",
       "      <td>0.000055</td>\n",
       "    </tr>\n",
       "    <tr>\n",
       "      <th>76</th>\n",
       "      <td>g5_s05</td>\n",
       "      <td>0.000039</td>\n",
       "    </tr>\n",
       "  </tbody>\n",
       "</table>\n",
       "<p>144 rows × 2 columns</p>\n",
       "</div>"
      ],
      "text/plain": [
       "    filename  gaba_conc_cr_model_abs_error\n",
       "58   p10_s02                      2.824313\n",
       "118   g8_s08                      0.750247\n",
       "7     g7_s11                      0.443978\n",
       "85    p4_s05                      0.214509\n",
       "114   g7_s07                      0.052070\n",
       "..       ...                           ...\n",
       "77    g5_s06                      0.000192\n",
       "81    g8_s04                      0.000158\n",
       "115   g7_s08                      0.000090\n",
       "4     g5_s11                      0.000055\n",
       "76    g5_s05                      0.000039\n",
       "\n",
       "[144 rows x 2 columns]"
      ]
     },
     "execution_count": 27,
     "metadata": {},
     "output_type": "execute_result"
    }
   ],
   "source": [
    "c_df[[\"filename\",\"gaba_conc_cr_model_abs_error\"]].sort_values(\"gaba_conc_cr_model_abs_error\",ascending=False)"
   ]
  },
  {
   "cell_type": "code",
   "execution_count": 8,
   "metadata": {},
   "outputs": [
    {
     "data": {
      "image/png": "[encoded data removed]",
      "text/plain": [
       "<Figure size 1000x500 with 2 Axes>"
      ]
     },
     "metadata": {},
     "output_type": "display_data"
    }
   ],
   "source": [
    "i_df = c_df.copy()\n",
    "\n",
    "filenames_to_filter = [\"g7_s11\",\"p10_s02\"]\n",
    "i_df = i_df[~i_df[\"filename\"].isin(filenames_to_filter)]\n",
    "\n",
    "\n",
    "fig,ax = plt.subplots(1,2,figsize=(10,5))\n",
    "\n",
    "i_df[\"mean_model\"]=(i_df[\"gaba_conc_cr_model\"]+i_df[\"gaba_conc_cr_full\"])/2\n",
    "i_df[\"mean_acc\"]=(i_df[\"gaba_conc_cr_acc\"]+i_df[\"gaba_conc_cr_full\"])/2\n",
    "i_df[\"diff_model\"] = i_df[\"gaba_conc_cr_model_error\"]\n",
    "i_df[\"diff_acc\"] = i_df[\"gaba_conc_cr_acc_error\"]\n",
    "#i_df[\"mean_model\"] = (i_df[\"gaba_conc_cr_model\"]/i_df[\"gaba_conc_cr_full\"]+1)/2\n",
    "#i_df[\"mean_acc\"] = (i_df[\"gaba_conc_cr_acc\"]/i_df[\"gaba_conc_cr_full\"]+1)/2\n",
    "#i_df[\"diff_model\"] = i_df[\"gaba_conc_cr_model_rel_error\"]\n",
    "#i_df[\"diff_acc\"] = i_df[\"gaba_conc_cr_acc_rel_error\"]\n",
    "\n",
    "\n",
    "ax[0].scatter(i_df[\"mean_acc\"],i_df[\"diff_acc\"],s=3)\n",
    "ax[0].hlines(i_df[\"diff_acc\"].mean(),i_df[\"mean_acc\"].min(),i_df[\"mean_acc\"].max(),color=\"black\",linestyles=\"--\")\n",
    "ax[0].hlines([i_df[\"diff_acc\"].mean()+1.96*i_df[\"diff_acc\"].std(),\n",
    "             i_df[\"diff_acc\"].mean()-1.96*i_df[\"diff_acc\"].std()],i_df[\"mean_acc\"].min(),i_df[\"mean_acc\"].max(),color=\"red\",linestyles=\"--\")\n",
    "\n",
    "ax[1].scatter(i_df[\"mean_model\"],i_df[\"diff_model\"],color=\"orange\",s=3)\n",
    "ax[1].hlines(i_df[\"diff_model\"].mean(),i_df[\"mean_model\"].min(),i_df[\"mean_model\"].max(),color=\"black\",linestyles=\"--\")\n",
    "ax[1].hlines([i_df[\"diff_model\"].mean()+1.96*i_df[\"diff_model\"].std(),\n",
    "             i_df[\"diff_model\"].mean()-1.96*i_df[\"diff_model\"].std()],i_df[\"mean_model\"].min(),i_df[\"mean_model\"].max(),color=\"red\",linestyles=\"--\")\n",
    "\n",
    "for i in range(2):\n",
    "    ax[i].set_xlim(0.05,0.2)\n",
    "    ax[i].set_ylim(-0.05,0.05)\n",
    "#ax[0].set_ylim(-0.05,0.05)\n",
    "#ax[1].set_ylim(-0.05,0.05)\n",
    "\n",
    "\n"
   ]
  },
  {
   "cell_type": "code",
   "execution_count": null,
   "metadata": {},
   "outputs": [],
   "source": []
  },
  {
   "cell_type": "code",
   "execution_count": null,
   "metadata": {},
   "outputs": [],
   "source": []
  },
  {
   "cell_type": "code",
   "execution_count": 6,
   "metadata": {},
   "outputs": [
    {
     "data": {
      "text/plain": [
       "gaba_conc_cr_model_abs_error    0.334425\n",
       "gaba_conc_cr_acc_abs_error      0.781733\n",
       "dtype: float64"
      ]
     },
     "execution_count": 6,
     "metadata": {},
     "output_type": "execute_result"
    }
   ],
   "source": [
    "c_df[[\"gaba_conc_cr_model_abs_error\",\"gaba_conc_cr_acc_abs_error\"]].mean()\n",
    "c_df[[\"gaba_conc_cr_model_abs_error\",\"gaba_conc_cr_acc_abs_error\"]].median()\n",
    "c_df[[\"gaba_conc_cr_model_abs_error\",\"gaba_conc_cr_acc_abs_error\"]].std()"
   ]
  },
  {
   "cell_type": "code",
   "execution_count": null,
   "metadata": {},
   "outputs": [],
   "source": []
  }
 ],
 "metadata": {
  "kernelspec": {
   "display_name": "thesis",
   "language": "python",
   "name": "python3"
  },
  "language_info": {
   "codemirror_mode": {
    "name": "ipython",
    "version": 3
   },
   "file_extension": ".py",
   "mimetype": "text/x-python",
   "name": "python",
   "nbconvert_exporter": "python",
   "pygments_lexer": "ipython3",
   "version": "3.8.16"
  },
  "orig_nbformat": 4
 },
 "nbformat": 4,
 "nbformat_minor": 2
}
