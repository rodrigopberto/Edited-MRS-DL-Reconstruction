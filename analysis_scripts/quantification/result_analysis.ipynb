{
 "cells": [
  {
   "cell_type": "code",
   "execution_count": 1,
   "metadata": {},
   "outputs": [],
   "source": [
    "import pandas as pd\n",
    "import matplotlib.pyplot as plt\n",
    "import seaborn as sns\n",
    "import numpy as np\n",
    "import scipy.stats as st"
   ]
  },
  {
   "cell_type": "code",
   "execution_count": 2,
   "metadata": {},
   "outputs": [],
   "source": [
    "files = [\"split_1.csv\",\"split_2.csv\"]\n",
    "dfs = []\n",
    "for filename in files:\n",
    "    i_df = pd.read_csv(\"../eval/quantifications/{}\".format(filename))\n",
    "    dfs.append(i_df)\n",
    "\n",
    "df = pd.concat(dfs,sort=False)\n",
    "filenames = list(df[\"filename\"].unique())\n",
    "\n",
    "\n",
    "full_df = pd.read_csv(\"../pre_results/full_ref_df.csv\")\n",
    "acc_df = pd.read_csv(\"../pre_results/acc_ref_df.csv\")\n",
    "\n",
    "full_df = full_df[full_df[\"filename\"].isin(filenames)]\n",
    "acc_df = acc_df[acc_df[\"filename\"].isin(filenames)]\n",
    "\n",
    "c_df = pd.merge(df,full_df,on=\"filename\",suffixes=(\"\",\"_full\"))\n",
    "c_df = pd.merge(c_df,acc_df,on=\"filename\",suffixes=(\"_model\",\"_acc\"))\n",
    "\n",
    "df[\"model\"]=\"model\"\n",
    "full_df[\"model\"]=\"full\"\n",
    "acc_df[\"model\"]=\"acc\"\n",
    "df = pd.concat([df,full_df,acc_df],sort=False)\n",
    "\n",
    "c_df[\"gaba_conc_cr_model_error\"] = c_df[\"gaba_conc_cr_model\"]-c_df[\"gaba_conc_cr_full\"]\n",
    "c_df[\"gaba_conc_cr_model_abs_error\"] = abs(c_df[\"gaba_conc_cr_model_error\"])\n",
    "c_df[\"gaba_conc_water_model_error\"] = c_df[\"gaba_conc_water_model\"]-c_df[\"gaba_conc_water_full\"]\n",
    "c_df[\"gaba_conc_water_model_abs_error\"] = abs(c_df[\"gaba_conc_water_model_error\"])\n",
    "\n",
    "c_df[\"gaba_conc_cr_acc_error\"] = c_df[\"gaba_conc_cr_acc\"]-c_df[\"gaba_conc_cr_full\"]\n",
    "c_df[\"gaba_conc_cr_acc_abs_error\"] = abs(c_df[\"gaba_conc_cr_acc_error\"])\n",
    "c_df[\"gaba_conc_water_acc_error\"] = c_df[\"gaba_conc_water_acc\"]-c_df[\"gaba_conc_water_full\"]\n",
    "c_df[\"gaba_conc_water_acc_abs_error\"] = abs(c_df[\"gaba_conc_water_acc_error\"])"
   ]
  },
  {
   "cell_type": "code",
   "execution_count": 3,
   "metadata": {},
   "outputs": [
    {
     "name": "stdout",
     "output_type": "stream",
     "text": [
      "Conc Cr Abs Error:\n",
      "Means + Std => Model: 0.060 +- 0.334 / Acc: 0.116 +- 0.782 => p-value: 0.0133\n",
      "Medians => Model: 0.013 / Acc: 0.007\n",
      "\n",
      "Conc water Abs Error:\n",
      "Means + Std => Model: 0.904 +- 5.242 / Acc: 1.615 +- 12.236 => p-value: 0.0030\n",
      "Medians => Model: 0.220 / Acc: 0.130\n"
     ]
    }
   ],
   "source": [
    "#### CR difference analysis\n",
    "## simple table and analysis\n",
    "print(\"Conc Cr Abs Error:\")\n",
    "print(f\"Means + Std => Model: {c_df['gaba_conc_cr_model_abs_error'].mean():.3f} +- {c_df['gaba_conc_cr_model_abs_error'].std():.3f} / Acc: {c_df['gaba_conc_cr_acc_abs_error'].mean():.3f} +- {c_df['gaba_conc_cr_acc_abs_error'].std():.3f} => p-value: {st.wilcoxon(c_df['gaba_conc_cr_model_abs_error'],c_df['gaba_conc_cr_acc_abs_error']).pvalue:.4f}\")\n",
    "print(f\"Medians => Model: {c_df['gaba_conc_cr_model_abs_error'].median():.3f} / Acc: {c_df['gaba_conc_cr_acc_abs_error'].median():.3f}\")\n",
    "print(\"\")\n",
    "print(\"Conc water Abs Error:\")\n",
    "print(f\"Means + Std => Model: {c_df['gaba_conc_water_model_abs_error'].mean():.3f} +- {c_df['gaba_conc_water_model_abs_error'].std():.3f} / Acc: {c_df['gaba_conc_water_acc_abs_error'].mean():.3f} +- {c_df['gaba_conc_water_acc_abs_error'].std():.3f} => p-value: {st.wilcoxon(c_df['gaba_conc_water_model_abs_error'],c_df['gaba_conc_water_acc_abs_error']).pvalue:.4f}\")\n",
    "print(f\"Medians => Model: {c_df['gaba_conc_water_model_abs_error'].median():.3f} / Acc: {c_df['gaba_conc_water_acc_abs_error'].median():.3f}\")\n"
   ]
  },
  {
   "cell_type": "code",
   "execution_count": 4,
   "metadata": {},
   "outputs": [
    {
     "name": "stdout",
     "output_type": "stream",
     "text": [
      "   filename  gaba_conc_cr_acc_abs_error  gaba_conc_cr_model_abs_error\n",
      "58  p10_s02                    6.568276                      2.824313\n",
      "7    g7_s11                    1.095723                      0.443978\n",
      "2    g4_s12                    0.049015                      0.013737\n",
      "6    g7_s10                    0.047452                      0.013931\n",
      "8    g7_s12                    0.034605                      0.022479\n",
      "..      ...                         ...                           ...\n",
      "70   s8_s02                    0.001227                      0.016119\n",
      "27   s3_s10                    0.001213                      0.000869\n",
      "21  p10_s10                    0.001145                      0.034601\n",
      "29   s3_s12                    0.000364                      0.009354\n",
      "68   s5_s03                    0.000127                      0.011824\n",
      "\n",
      "[72 rows x 3 columns]\n"
     ]
    }
   ],
   "source": [
    "i_df = c_df.sort_values(\"gaba_conc_cr_acc_abs_error\",ascending=False)\n",
    "print(i_df[[\"filename\",\"gaba_conc_cr_acc_abs_error\",\"gaba_conc_cr_model_abs_error\"]])"
   ]
  },
  {
   "cell_type": "code",
   "execution_count": 22,
   "metadata": {},
   "outputs": [
    {
     "data": {
      "image/png": "[encoded data removed]",
      "text/plain": [
       "<Figure size 1000x400 with 2 Axes>"
      ]
     },
     "metadata": {},
     "output_type": "display_data"
    },
    {
     "name": "stdout",
     "output_type": "stream",
     "text": [
      "Conc Cr Abs Error:\n",
      "Means + Std => Model: 0.015 +- 0.011 / Acc: 0.010 +- 0.010 => p-value: 0.0027\n",
      "Medians => Model: 0.012 / Acc: 0.007\n",
      "\n",
      "Conc water Abs Error:\n",
      "Means + Std => Model: 0.273 +- 0.223 / Acc: 0.167 +- 0.146 => p-value: 0.0019\n",
      "Medians => Model: 0.217 / Acc: 0.123\n"
     ]
    }
   ],
   "source": [
    "### simple hists\n",
    "\n",
    "##filter for histogram - \n",
    "filter_for_histogram = [\"p10_s02\",\"g7_s11\"]\n",
    "i_df = c_df[~c_df[\"filename\"].isin(filter_for_histogram)]\n",
    "\n",
    "fig,ax = plt.subplots(1,2,figsize=(10,4))\n",
    "\n",
    "bins_x = []\n",
    "\n",
    "ax[0].hist(i_df[\"gaba_conc_cr_acc_abs_error\"],alpha=0.5,label=\"acc\")\n",
    "ax[0].hist(i_df[\"gaba_conc_cr_model_abs_error\"],alpha=0.5,label=\"model\")\n",
    "\n",
    "ax[1].hist(i_df[\"gaba_conc_water_acc_abs_error\"],alpha=0.5,label=\"acc\")\n",
    "ax[1].hist(i_df[\"gaba_conc_water_model_abs_error\"],alpha=0.5,label=\"model\")\n",
    "\n",
    "plt.legend()\n",
    "\n",
    "plt.show()\n",
    "\n",
    "## filtered results:\n",
    "\n",
    "print(\"Conc Cr Abs Error:\")\n",
    "print(f\"Means + Std => Model: {i_df['gaba_conc_cr_model_abs_error'].mean():.3f} +- {i_df['gaba_conc_cr_model_abs_error'].std():.3f} / Acc: {i_df['gaba_conc_cr_acc_abs_error'].mean():.3f} +- {i_df['gaba_conc_cr_acc_abs_error'].std():.3f} => p-value: {st.wilcoxon(i_df['gaba_conc_cr_model_abs_error'],i_df['gaba_conc_cr_acc_abs_error']).pvalue:.4f}\")\n",
    "print(f\"Medians => Model: {i_df['gaba_conc_cr_model_abs_error'].median():.3f} / Acc: {i_df['gaba_conc_cr_acc_abs_error'].median():.3f}\")\n",
    "print(\"\")\n",
    "print(\"Conc water Abs Error:\")\n",
    "print(f\"Means + Std => Model: {i_df['gaba_conc_water_model_abs_error'].mean():.3f} +- {i_df['gaba_conc_water_model_abs_error'].std():.3f} / Acc: {i_df['gaba_conc_water_acc_abs_error'].mean():.3f} +- {i_df['gaba_conc_water_acc_abs_error'].std():.3f} => p-value: {st.wilcoxon(i_df['gaba_conc_water_model_abs_error'],i_df['gaba_conc_water_acc_abs_error']).pvalue:.4f}\")\n",
    "print(f\"Medians => Model: {i_df['gaba_conc_water_model_abs_error'].median():.3f} / Acc: {i_df['gaba_conc_water_acc_abs_error'].median():.3f}\")\n"
   ]
  },
  {
   "cell_type": "code",
   "execution_count": 5,
   "metadata": {},
   "outputs": [
    {
     "data": {
      "image/png": "[encoded data removed]",
      "text/plain": [
       "<Figure size 600x400 with 1 Axes>"
      ]
     },
     "metadata": {},
     "output_type": "display_data"
    }
   ],
   "source": [
    "#### how results change after filtering a bit the worse results\n",
    "i_df = c_df.sort_values(\"gaba_conc_cr_acc_abs_error\",ascending=False)\n",
    "filename_list = list(i_df[\"filename\"])\n",
    "\n",
    "abs_error_accs = []\n",
    "abs_error_models=[]\n",
    "\n",
    "for i in range(len(filename_list)-1):\n",
    "    i_df = c_df[~c_df[\"filename\"].isin(filename_list[:i])]\n",
    "    abs_error_models.append(i_df['gaba_conc_cr_model_abs_error'].mean())\n",
    "    abs_error_accs.append(i_df['gaba_conc_cr_acc_abs_error'].mean())\n",
    "\n",
    "fig,ax = plt.subplots(figsize=(6,4))\n",
    "\n",
    "ax.plot(abs_error_accs,label=\"accs\")\n",
    "ax.plot(abs_error_models,label=\"models\")\n",
    "\n",
    "plt.show()"
   ]
  },
  {
   "cell_type": "code",
   "execution_count": null,
   "metadata": {},
   "outputs": [],
   "source": [
    "\n",
    "\n",
    "\n",
    "fig,ax = plt.subplots(1,2,figsize=(10,5))\n",
    "\n",
    "ax[0].scatterplot(df[\"plot\"])\n"
   ]
  },
  {
   "cell_type": "code",
   "execution_count": null,
   "metadata": {},
   "outputs": [],
   "source": []
  },
  {
   "cell_type": "code",
   "execution_count": null,
   "metadata": {},
   "outputs": [],
   "source": []
  },
  {
   "cell_type": "code",
   "execution_count": null,
   "metadata": {},
   "outputs": [],
   "source": []
  },
  {
   "cell_type": "code",
   "execution_count": null,
   "metadata": {},
   "outputs": [],
   "source": []
  },
  {
   "cell_type": "code",
   "execution_count": 5,
   "metadata": {},
   "outputs": [
    {
     "data": {
      "text/plain": [
       "gaba_conc_cr_model    0.156766\n",
       "gaba_conc_cr_acc      0.224001\n",
       "gaba_conc_cr_full     0.114178\n",
       "dtype: float64"
      ]
     },
     "execution_count": 5,
     "metadata": {},
     "output_type": "execute_result"
    }
   ],
   "source": [
    "c_df[[\"gaba_conc_cr_model\",\"gaba_conc_cr_acc\",\"gaba_conc_cr_full\"]].mean()"
   ]
  },
  {
   "cell_type": "code",
   "execution_count": 6,
   "metadata": {},
   "outputs": [
    {
     "data": {
      "text/html": [
       "<div>\n",
       "<style scoped>\n",
       "    .dataframe tbody tr th:only-of-type {\n",
       "        vertical-align: middle;\n",
       "    }\n",
       "\n",
       "    .dataframe tbody tr th {\n",
       "        vertical-align: top;\n",
       "    }\n",
       "\n",
       "    .dataframe thead th {\n",
       "        text-align: right;\n",
       "    }\n",
       "</style>\n",
       "<table border=\"1\" class=\"dataframe\">\n",
       "  <thead>\n",
       "    <tr style=\"text-align: right;\">\n",
       "      <th></th>\n",
       "      <th>gaba_conc_cr</th>\n",
       "    </tr>\n",
       "    <tr>\n",
       "      <th>model</th>\n",
       "      <th></th>\n",
       "    </tr>\n",
       "  </thead>\n",
       "  <tbody>\n",
       "    <tr>\n",
       "      <th>acc</th>\n",
       "      <td>0.224001</td>\n",
       "    </tr>\n",
       "    <tr>\n",
       "      <th>full</th>\n",
       "      <td>0.114178</td>\n",
       "    </tr>\n",
       "    <tr>\n",
       "      <th>model</th>\n",
       "      <td>0.156766</td>\n",
       "    </tr>\n",
       "  </tbody>\n",
       "</table>\n",
       "</div>"
      ],
      "text/plain": [
       "       gaba_conc_cr\n",
       "model              \n",
       "acc        0.224001\n",
       "full       0.114178\n",
       "model      0.156766"
      ]
     },
     "execution_count": 6,
     "metadata": {},
     "output_type": "execute_result"
    }
   ],
   "source": [
    "df.groupby(\"model\").agg({\"gaba_conc_cr\":\"mean\"})"
   ]
  }
 ],
 "metadata": {
  "kernelspec": {
   "display_name": "thesis",
   "language": "python",
   "name": "python3"
  },
  "language_info": {
   "codemirror_mode": {
    "name": "ipython",
    "version": 3
   },
   "file_extension": ".py",
   "mimetype": "text/x-python",
   "name": "python",
   "nbconvert_exporter": "python",
   "pygments_lexer": "ipython3",
   "version": "3.8.16"
  },
  "orig_nbformat": 4
 },
 "nbformat": 4,
 "nbformat_minor": 2
}
