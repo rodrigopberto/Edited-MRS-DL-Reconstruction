{
 "cells": [
  {
   "cell_type": "code",
   "execution_count": 1,
   "metadata": {},
   "outputs": [],
   "source": [
    "import pandas as pd\n",
    "import matplotlib.pyplot as plt\n",
    "import seaborn as sns\n",
    "import numpy as np\n",
    "import scipy.stats as st"
   ]
  },
  {
   "cell_type": "code",
   "execution_count": 3,
   "metadata": {},
   "outputs": [],
   "source": [
    "files = [\"split_2.csv\"]#,\"split_2.csv\"]\n",
    "dfs = []\n",
    "for filename in files:\n",
    "    i_df = pd.read_csv(\"../eval/quantifications/{}\".format(filename))\n",
    "    dfs.append(i_df)\n",
    "\n",
    "df = pd.concat(dfs,sort=False)\n",
    "filenames = list(df[\"filename\"].unique())\n",
    "\n",
    "\n",
    "full_df = pd.read_csv(\"../pre_results/full_ref_df.csv\")\n",
    "acc_df = pd.read_csv(\"../pre_results/acc_ref_df.csv\")\n",
    "\n",
    "full_df = full_df[full_df[\"filename\"].isin(filenames)]\n",
    "acc_df = acc_df[acc_df[\"filename\"].isin(filenames)]\n",
    "\n",
    "c_df = pd.merge(df,full_df,on=\"filename\",suffixes=(\"\",\"_full\"))\n",
    "c_df = pd.merge(c_df,acc_df,on=\"filename\",suffixes=(\"_model\",\"_acc\"))\n",
    "\n",
    "df[\"model\"]=\"model\"\n",
    "full_df[\"model\"]=\"full\"\n",
    "acc_df[\"model\"]=\"acc\"\n",
    "df = pd.concat([df,full_df,acc_df],sort=False)\n",
    "\n",
    "c_df[\"gaba_conc_cr_model_error\"] = c_df[\"gaba_conc_cr_model\"]-c_df[\"gaba_conc_cr_full\"]\n",
    "c_df[\"gaba_conc_cr_model_abs_error\"] = abs(c_df[\"gaba_conc_cr_model_error\"])\n",
    "c_df[\"gaba_conc_water_model_error\"] = c_df[\"gaba_conc_water_model\"]-c_df[\"gaba_conc_water_full\"]\n",
    "c_df[\"gaba_conc_water_model_abs_error\"] = abs(c_df[\"gaba_conc_water_model_error\"])\n",
    "\n",
    "c_df[\"gaba_conc_cr_acc_error\"] = c_df[\"gaba_conc_cr_acc\"]-c_df[\"gaba_conc_cr_full\"]\n",
    "c_df[\"gaba_conc_cr_acc_abs_error\"] = abs(c_df[\"gaba_conc_cr_acc_error\"])\n",
    "c_df[\"gaba_conc_water_acc_error\"] = c_df[\"gaba_conc_water_acc\"]-c_df[\"gaba_conc_water_full\"]\n",
    "c_df[\"gaba_conc_water_acc_abs_error\"] = abs(c_df[\"gaba_conc_water_acc_error\"])\n",
    "\n",
    "c_df[\"gaba_conc_cr_model_rel_error\"] = c_df[\"gaba_conc_cr_model_error\"]/c_df[\"gaba_conc_cr_full\"]\n",
    "c_df[\"gaba_conc_cr_acc_rel_error\"] = c_df[\"gaba_conc_cr_acc_error\"]/c_df[\"gaba_conc_cr_full\"]\n",
    "c_df[\"gaba_conc_cr_model_rel_abs_error\"] = c_df[\"gaba_conc_cr_model_abs_error\"]/c_df[\"gaba_conc_cr_full\"]\n",
    "c_df[\"gaba_conc_cr_acc_rel_abs_error\"] = c_df[\"gaba_conc_cr_acc_abs_error\"]/c_df[\"gaba_conc_cr_full\"]"
   ]
  },
  {
   "cell_type": "code",
   "execution_count": 4,
   "metadata": {},
   "outputs": [
    {
     "name": "stdout",
     "output_type": "stream",
     "text": [
      "Conc Cr Abs Error:\n",
      "Means + Std => Model: 0.094 +- 0.468 / Acc: 0.190 +- 1.093 => p-value: 0.0026\n",
      "Medians => Model: 0.015 / Acc: 0.008\n",
      "\n",
      "Conc water Abs Error:\n",
      "Means + Std => Model: 1.546 +- 7.404 / Acc: 3.036 +- 17.307 => p-value: 0.0031\n",
      "Medians => Model: 0.294 / Acc: 0.124\n",
      "\n",
      "SNRs\n",
      "Means: Model: inf / Full: 22.8 / Acc: 12.9\n",
      "p-values: Model/Full 0.0000 - Model/Acc 0.0000 - Full/Acc 0.0000\n",
      "Medians: Model: inf / Full: 21.6 / Acc: 10.4\n",
      "\n",
      "Fit Errors\n",
      "Means: Model: 3.8 / Full: 4.1 / Acc: 5.8\n",
      "p-values: Model/Full 0.3226 - Model/Acc 0.0000 - Full/Acc 0.0000\n",
      "Medians: Model: 3.5 / Full: 3.9 / Acc: 5.3\n"
     ]
    }
   ],
   "source": [
    "#### CR difference analysis\n",
    "## simple table and analysis\n",
    "print(\"Conc Cr Abs Error:\")\n",
    "print(f\"Means + Std => Model: {c_df['gaba_conc_cr_model_abs_error'].mean():.3f} +- {c_df['gaba_conc_cr_model_abs_error'].std():.3f} / Acc: {c_df['gaba_conc_cr_acc_abs_error'].mean():.3f} +- {c_df['gaba_conc_cr_acc_abs_error'].std():.3f} => p-value: {st.wilcoxon(c_df['gaba_conc_cr_model_abs_error'],c_df['gaba_conc_cr_acc_abs_error']).pvalue:.4f}\")\n",
    "print(f\"Medians => Model: {c_df['gaba_conc_cr_model_abs_error'].median():.3f} / Acc: {c_df['gaba_conc_cr_acc_abs_error'].median():.3f}\")\n",
    "print(\"\")\n",
    "print(\"Conc water Abs Error:\")\n",
    "print(f\"Means + Std => Model: {c_df['gaba_conc_water_model_abs_error'].mean():.3f} +- {c_df['gaba_conc_water_model_abs_error'].std():.3f} / Acc: {c_df['gaba_conc_water_acc_abs_error'].mean():.3f} +- {c_df['gaba_conc_water_acc_abs_error'].std():.3f} => p-value: {st.wilcoxon(c_df['gaba_conc_water_model_abs_error'],c_df['gaba_conc_water_acc_abs_error']).pvalue:.4f}\")\n",
    "print(f\"Medians => Model: {c_df['gaba_conc_water_model_abs_error'].median():.3f} / Acc: {c_df['gaba_conc_water_acc_abs_error'].median():.3f}\")\n",
    "print(\"\")\n",
    "print(\"SNRs\")\n",
    "print(f\"Means: Model: {c_df['gaba_snr_model'].mean():.1f} / Full: {c_df['gaba_snr_full'].mean():.1f} / Acc: {c_df['gaba_snr_acc'].mean():.1f}\")\n",
    "print(f\"p-values: Model/Full {st.wilcoxon(c_df['gaba_snr_model'],c_df['gaba_snr_full']).pvalue:.4f} - Model/Acc {st.wilcoxon(c_df['gaba_snr_model'],c_df['gaba_snr_acc']).pvalue:.4f} - Full/Acc {st.wilcoxon(c_df['gaba_snr_full'],c_df['gaba_snr_acc']).pvalue:.4f}\")\n",
    "print(f\"Medians: Model: {c_df['gaba_snr_model'].median():.1f} / Full: {c_df['gaba_snr_full'].median():.1f} / Acc: {c_df['gaba_snr_acc'].median():.1f}\")\n",
    "print(\"\")\n",
    "print(\"Fit Errors\")\n",
    "print(f\"Means: Model: {c_df['gaba_fit_error_model'].mean():.1f} / Full: {c_df['gaba_fit_error_full'].mean():.1f} / Acc: {c_df['gaba_fit_error_acc'].mean():.1f}\")\n",
    "print(f\"p-values: Model/Full {st.wilcoxon(c_df['gaba_fit_error_model'],c_df['gaba_fit_error_full']).pvalue:.4f} - Model/Acc {st.wilcoxon(c_df['gaba_fit_error_model'],c_df['gaba_fit_error_acc']).pvalue:.4f} - Full/Acc {st.wilcoxon(c_df['gaba_fit_error_full'],c_df['gaba_fit_error_acc']).pvalue:.4f}\")\n",
    "print(f\"Medians: Model: {c_df['gaba_fit_error_model'].median():.1f} / Full: {c_df['gaba_fit_error_full'].median():.1f} / Acc: {c_df['gaba_fit_error_acc'].median():.1f}\")"
   ]
  }
 ],
 "metadata": {
  "kernelspec": {
   "display_name": "thesis",
   "language": "python",
   "name": "python3"
  },
  "language_info": {
   "codemirror_mode": {
    "name": "ipython",
    "version": 3
   },
   "file_extension": ".py",
   "mimetype": "text/x-python",
   "name": "python",
   "nbconvert_exporter": "python",
   "pygments_lexer": "ipython3",
   "version": "3.8.16"
  },
  "orig_nbformat": 4
 },
 "nbformat": 4,
 "nbformat_minor": 2
}
